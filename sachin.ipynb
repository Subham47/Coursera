{
 "cells": [
  {
   "cell_type": "code",
   "execution_count": 1,
   "metadata": {},
   "outputs": [],
   "source": [
    "import numpy as np\n",
    "import pandas as pd\n",
    "from nltk.corpus import stopwords \n",
    "from nltk.tokenize import word_tokenize \n",
    "import re \n",
    "import spacy"
   ]
  },
  {
   "cell_type": "markdown",
   "metadata": {},
   "source": [
    "Reading data for New York Times."
   ]
  },
  {
   "cell_type": "code",
   "execution_count": 2,
   "metadata": {},
   "outputs": [
    {
     "data": {
      "text/html": [
       "<div>\n",
       "<style scoped>\n",
       "    .dataframe tbody tr th:only-of-type {\n",
       "        vertical-align: middle;\n",
       "    }\n",
       "\n",
       "    .dataframe tbody tr th {\n",
       "        vertical-align: top;\n",
       "    }\n",
       "\n",
       "    .dataframe thead th {\n",
       "        text-align: right;\n",
       "    }\n",
       "</style>\n",
       "<table border=\"1\" class=\"dataframe\">\n",
       "  <thead>\n",
       "    <tr style=\"text-align: right;\">\n",
       "      <th></th>\n",
       "      <th>Unnamed: 0</th>\n",
       "      <th>id</th>\n",
       "      <th>title</th>\n",
       "      <th>publication</th>\n",
       "      <th>author</th>\n",
       "      <th>date</th>\n",
       "      <th>year</th>\n",
       "      <th>month</th>\n",
       "      <th>url</th>\n",
       "      <th>content</th>\n",
       "    </tr>\n",
       "  </thead>\n",
       "  <tbody>\n",
       "    <tr>\n",
       "      <th>0</th>\n",
       "      <td>0</td>\n",
       "      <td>17283</td>\n",
       "      <td>House Republicans Fret About Winning Their Hea...</td>\n",
       "      <td>New York Times</td>\n",
       "      <td>Carl Hulse</td>\n",
       "      <td>2016-12-31</td>\n",
       "      <td>2016.0</td>\n",
       "      <td>12.0</td>\n",
       "      <td>NaN</td>\n",
       "      <td>WASHINGTON  —   Congressional Republicans have...</td>\n",
       "    </tr>\n",
       "    <tr>\n",
       "      <th>1</th>\n",
       "      <td>1</td>\n",
       "      <td>17284</td>\n",
       "      <td>Rift Between Officers and Residents as Killing...</td>\n",
       "      <td>New York Times</td>\n",
       "      <td>Benjamin Mueller and Al Baker</td>\n",
       "      <td>2017-06-19</td>\n",
       "      <td>2017.0</td>\n",
       "      <td>6.0</td>\n",
       "      <td>NaN</td>\n",
       "      <td>After the bullet shells get counted, the blood...</td>\n",
       "    </tr>\n",
       "    <tr>\n",
       "      <th>2</th>\n",
       "      <td>2</td>\n",
       "      <td>17285</td>\n",
       "      <td>Tyrus Wong, ‘Bambi’ Artist Thwarted by Racial ...</td>\n",
       "      <td>New York Times</td>\n",
       "      <td>Margalit Fox</td>\n",
       "      <td>2017-01-06</td>\n",
       "      <td>2017.0</td>\n",
       "      <td>1.0</td>\n",
       "      <td>NaN</td>\n",
       "      <td>When Walt Disney’s “Bambi” opened in 1942, cri...</td>\n",
       "    </tr>\n",
       "    <tr>\n",
       "      <th>3</th>\n",
       "      <td>3</td>\n",
       "      <td>17286</td>\n",
       "      <td>Among Deaths in 2016, a Heavy Toll in Pop Musi...</td>\n",
       "      <td>New York Times</td>\n",
       "      <td>William McDonald</td>\n",
       "      <td>2017-04-10</td>\n",
       "      <td>2017.0</td>\n",
       "      <td>4.0</td>\n",
       "      <td>NaN</td>\n",
       "      <td>Death may be the great equalizer, but it isn’t...</td>\n",
       "    </tr>\n",
       "    <tr>\n",
       "      <th>4</th>\n",
       "      <td>4</td>\n",
       "      <td>17287</td>\n",
       "      <td>Kim Jong-un Says North Korea Is Preparing to T...</td>\n",
       "      <td>New York Times</td>\n",
       "      <td>Choe Sang-Hun</td>\n",
       "      <td>2017-01-02</td>\n",
       "      <td>2017.0</td>\n",
       "      <td>1.0</td>\n",
       "      <td>NaN</td>\n",
       "      <td>SEOUL, South Korea  —   North Korea’s leader, ...</td>\n",
       "    </tr>\n",
       "  </tbody>\n",
       "</table>\n",
       "</div>"
      ],
      "text/plain": [
       "   Unnamed: 0     id                                              title  \\\n",
       "0           0  17283  House Republicans Fret About Winning Their Hea...   \n",
       "1           1  17284  Rift Between Officers and Residents as Killing...   \n",
       "2           2  17285  Tyrus Wong, ‘Bambi’ Artist Thwarted by Racial ...   \n",
       "3           3  17286  Among Deaths in 2016, a Heavy Toll in Pop Musi...   \n",
       "4           4  17287  Kim Jong-un Says North Korea Is Preparing to T...   \n",
       "\n",
       "      publication                         author        date    year  month  \\\n",
       "0  New York Times                     Carl Hulse  2016-12-31  2016.0   12.0   \n",
       "1  New York Times  Benjamin Mueller and Al Baker  2017-06-19  2017.0    6.0   \n",
       "2  New York Times                   Margalit Fox  2017-01-06  2017.0    1.0   \n",
       "3  New York Times               William McDonald  2017-04-10  2017.0    4.0   \n",
       "4  New York Times                  Choe Sang-Hun  2017-01-02  2017.0    1.0   \n",
       "\n",
       "   url                                            content  \n",
       "0  NaN  WASHINGTON  —   Congressional Republicans have...  \n",
       "1  NaN  After the bullet shells get counted, the blood...  \n",
       "2  NaN  When Walt Disney’s “Bambi” opened in 1942, cri...  \n",
       "3  NaN  Death may be the great equalizer, but it isn’t...  \n",
       "4  NaN  SEOUL, South Korea  —   North Korea’s leader, ...  "
      ]
     },
     "execution_count": 2,
     "metadata": {},
     "output_type": "execute_result"
    }
   ],
   "source": [
    "df1 = pd.read_csv('data1.csv')\n",
    "df1.head(5)"
   ]
  },
  {
   "cell_type": "markdown",
   "metadata": {},
   "source": [
    "Reading data for Atlantic."
   ]
  },
  {
   "cell_type": "code",
   "execution_count": 3,
   "metadata": {},
   "outputs": [
    {
     "name": "stderr",
     "output_type": "stream",
     "text": [
      "C:\\Users\\subha\\anaconda3\\lib\\site-packages\\IPython\\core\\interactiveshell.py:3146: DtypeWarning: Columns (0,1,4,6,7,8,10,11,12,13,14,15,16,17,18,19,20,21,22,23,24,25,26,27,28,29,30,31,32,33,34,35,36,37,38,39,40,41,42,43,44,45,46,47,48,49,50,51,52,53,54,55,56,57,58,59,60,61,62,63,64,65,66,67,68,69,70,71,72,73,74,75,76,77,78,79,80,81,82,83,84,85,86,87,88,89,90,91,92,93,94,95,96,97,98,99,100,101,102,103,104,105,106,107,108,109,110,111,112,113,114,115,116,117,118,119,120,121,122,123,124,125,126,127,128,129,130,131,132,133,134,135,136,137,138,139,140,141,142,143,144,145,146,147,148,149,150,151,152,153,154,155,156,157,158,159,160,161,162,163,164,165,166,167,168,169,170,171,172,173,174,175,176,177,178,179,180,181,182,183,184,185,186,187,188,189,190,191,192,193,194,195,196,197,198,199,200,201,202,203,204,205,206,207,208,209,210,211,212,213,214,215,216,217,218,219,220,221,222,223,224,225,226,227,228,229,230,231,232,233,234,235,236,237,238,239,240,241,242,243,244,245,246,247,248,249,250,251,252,253,254,255,256,257,258,259,260,261,262,263,264,265,266,267,268,269,270,271,272,273,274,275,276,277,278,279,280,281,282,283,284,285,286,287,288,289,290,291,292,293,294,295,296,297,298,299,300,301,302,303,304,305,306,307,308,309,310,311,312,313,314,315,316,317,318,319,320,321,322,323,324,325,326,327,328,329,330,331,332,333,334,335,336,337,338,339,340,341,342,343,344,345,346,347,348,349,350,351,352,353,354,355,356,357,358,359,360,361,362,363,364,365,366,367,368,369,370,371,372,373,374,375,376,377,378,379,380,381,382,383,384,385,386,387,388,389,390,391,392,393,394,395,396,397,398,399,400,401,402,403,404,405,406,407,408,409,410,411,412,413,414,415,416,417,418,419,420,421,422,423,424,425,426,427,428,429,430,431,432,433,434,435,436,437,438,439,440,441,442,443,444,445,446,447,448,449,450,451,452,453,454,455,456,457,458,459,460,461,462,463,464,465,466,467,468,469,470,471,472,473,474,475,476,477,478,479,480,481,482,483,484,485,486,487,488,489,490,491,492,493,494,495,496,497,498,499,500,501,502,503,504,505,506,507,508,509,510,511,512,513,514,515,516,517,518,519,520,521,522,523,524,525,526,527,528,529,530,531,532,533,534,535,536,537,538,539,540,541,542,543,544,545,546,547,548,549,550,551,552,553,554,555,556,557,558,559,560,561,562,563,564,565,566,567,568,569,570,571,572,573,574,575,576,577,578,579,580,581,582,583,584,585,586,587,588,589,590,591,592,593,594,595,596,597,598,599,600,601,602,603,604,605,606,607,608,609,610,611,612,613,614,615,616,617,618,619,620,621,622,623,624,625,626,627,628,629,630,631,632,633,634,635,636,637,638,639,640,641,642,643,644,645,646,647,648,649,650,651,652,653,654,655,656,657,658,659,660,661,662,663,664,665,666,667,668,669,670,671,672,673,674,675,676,677,678,679,680,681,682,683,684,685,686,687,688,689,690,691,692,693,694,695,696,697,698,699,700,701,702,703,704,705,706,707,708,709,710,711,712,713,714,715,716,717,718,719,720,721,722,723,724,725,726,727,728,729,730,731,732,733,734,735,736,737,738,739,740,741,742,743,744,745,746,747,748,749,750,751,752,753,754,755,756,757,758,759,760,761,762,763,764,765,766,767,768,769,770,771,772,773,774,775,776,777,778,779,780,781,782,783,784,785,786,787,788,789,790,791,792,793,794,795,796,797,798,799,800,801,802,803,804,805,806,807,808,809,810,811,812,813,814,815,816,817,818,819,820,821,822,823,824,825,826,827,828,829,830,831,832,833,834,835,836,837,838,839,840,841,842,843,844,845,846,847,848,849,850,851,852,853,854,855,856,857,858,859,860,861,862,863,864,865,866,867,868,869,870,871,872,873,874,875,876,877,878,879,880,881,882,883,884,885,886,887,888,889,890,891,892,893,894,895,896,897,898,899,900,901,902,903,904,905,906,907,908,909,910,911,912,913,914,915,916,917,918,919,920,921,922,923,924,925,926,927,928,929,930,931,932,933,934,935,936,937,938,939,940,941,942,943,944,945,946,947,948,949,950,951,952,953,954,955,956,957,958,959,960,961,962,963,964,965,966,967,968,969,970,971,972,973,974,975,976,977,978,979,980,981,982,983,984,985,986,987,988,989,990,991,992,993,994,995,996,997,998,999,1000,1001,1002,1003,1004,1005,1006,1007,1008,1009,1010,1011,1012,1013,1014,1015,1016,1017,1018,1019,1020,1021,1022,1023,1024,1025,1026,1027,1028,1029,1030,1031,1032,1033,1034,1035,1036,1037,1038,1039,1040,1041,1042,1043,1044,1045,1046,1047,1048,1049,1050,1051,1052,1053,1054,1055,1056,1057,1058,1059,1060,1061,1062,1063,1064,1065,1066,1067,1068,1069,1070,1071,1072,1073,1074,1075,1076,1077,1078,1079,1080,1081,1082,1083,1084,1085,1086,1087,1088,1089,1090,1091,1092,1093,1094,1095,1096,1097,1098,1099,1100,1101,1102,1103,1104,1105,1106,1107,1108,1109,1110,1111,1112,1113,1114,1115,1116,1117,1118,1119,1120,1121,1122,1123,1124,1125,1126,1127,1128,1129,1130,1131,1132,1133,1134,1135,1136,1137,1138,1139,1140,1141,1142,1143,1144,1145,1146,1147,1148,1149,1150,1151,1152,1153,1154,1155,1156,1157,1158,1159,1160,1161,1162,1163,1164,1165,1166,1167,1168,1169,1170,1171,1172,1173,1174,1175,1176,1177,1178,1179,1180,1181,1182,1183,1184,1185,1186) have mixed types.Specify dtype option on import or set low_memory=False.\n",
      "  has_raised = await self.run_ast_nodes(code_ast.body, cell_name,\n"
     ]
    },
    {
     "data": {
      "text/html": [
       "<div>\n",
       "<style scoped>\n",
       "    .dataframe tbody tr th:only-of-type {\n",
       "        vertical-align: middle;\n",
       "    }\n",
       "\n",
       "    .dataframe tbody tr th {\n",
       "        vertical-align: top;\n",
       "    }\n",
       "\n",
       "    .dataframe thead th {\n",
       "        text-align: right;\n",
       "    }\n",
       "</style>\n",
       "<table border=\"1\" class=\"dataframe\">\n",
       "  <thead>\n",
       "    <tr style=\"text-align: right;\">\n",
       "      <th></th>\n",
       "      <th>Unnamed: 0</th>\n",
       "      <th>id</th>\n",
       "      <th>title</th>\n",
       "      <th>publication</th>\n",
       "      <th>author</th>\n",
       "      <th>Unnamed: 5</th>\n",
       "      <th>year</th>\n",
       "      <th>month</th>\n",
       "      <th>url</th>\n",
       "      <th>content</th>\n",
       "      <th>...</th>\n",
       "      <th>Unnamed: 1177</th>\n",
       "      <th>Unnamed: 1178</th>\n",
       "      <th>Unnamed: 1179</th>\n",
       "      <th>Unnamed: 1180</th>\n",
       "      <th>Unnamed: 1181</th>\n",
       "      <th>Unnamed: 1182</th>\n",
       "      <th>Unnamed: 1183</th>\n",
       "      <th>Unnamed: 1184</th>\n",
       "      <th>Unnamed: 1185</th>\n",
       "      <th>Unnamed: 1186</th>\n",
       "    </tr>\n",
       "  </thead>\n",
       "  <tbody>\n",
       "    <tr>\n",
       "      <th>0</th>\n",
       "      <td>53293</td>\n",
       "      <td>73471</td>\n",
       "      <td>Patriots Day Is Best When It Digs Past the Her...</td>\n",
       "      <td>Atlantic</td>\n",
       "      <td>David Sims</td>\n",
       "      <td>NaN</td>\n",
       "      <td>2017</td>\n",
       "      <td>1</td>\n",
       "      <td>NaN</td>\n",
       "      <td>Patriots Day, Peter Bergâs new thriller that...</td>\n",
       "      <td>...</td>\n",
       "      <td>NaN</td>\n",
       "      <td>NaN</td>\n",
       "      <td>NaN</td>\n",
       "      <td>NaN</td>\n",
       "      <td>NaN</td>\n",
       "      <td>NaN</td>\n",
       "      <td>NaN</td>\n",
       "      <td>NaN</td>\n",
       "      <td>NaN</td>\n",
       "      <td>NaN</td>\n",
       "    </tr>\n",
       "    <tr>\n",
       "      <th>1</th>\n",
       "      <td>53294</td>\n",
       "      <td>73472</td>\n",
       "      <td>A Break in the Search for the Origin of Comple...</td>\n",
       "      <td>Atlantic</td>\n",
       "      <td>Ed Yong</td>\n",
       "      <td>NaN</td>\n",
       "      <td>2017</td>\n",
       "      <td>1</td>\n",
       "      <td>NaN</td>\n",
       "      <td>In Norse mythology, humans and our world were ...</td>\n",
       "      <td>...</td>\n",
       "      <td>NaN</td>\n",
       "      <td>NaN</td>\n",
       "      <td>NaN</td>\n",
       "      <td>NaN</td>\n",
       "      <td>NaN</td>\n",
       "      <td>NaN</td>\n",
       "      <td>NaN</td>\n",
       "      <td>NaN</td>\n",
       "      <td>NaN</td>\n",
       "      <td>NaN</td>\n",
       "    </tr>\n",
       "    <tr>\n",
       "      <th>2</th>\n",
       "      <td>53295</td>\n",
       "      <td>73474</td>\n",
       "      <td>Obamaâs Ingenious Mention of Atticus Finch</td>\n",
       "      <td>Atlantic</td>\n",
       "      <td>Spencer Kornhaber</td>\n",
       "      <td>NaN</td>\n",
       "      <td>2017</td>\n",
       "      <td>1</td>\n",
       "      <td>NaN</td>\n",
       "      <td>âIf our democracy is to work in this increas...</td>\n",
       "      <td>...</td>\n",
       "      <td>NaN</td>\n",
       "      <td>NaN</td>\n",
       "      <td>NaN</td>\n",
       "      <td>NaN</td>\n",
       "      <td>NaN</td>\n",
       "      <td>NaN</td>\n",
       "      <td>NaN</td>\n",
       "      <td>NaN</td>\n",
       "      <td>NaN</td>\n",
       "      <td>NaN</td>\n",
       "    </tr>\n",
       "    <tr>\n",
       "      <th>3</th>\n",
       "      <td>53296</td>\n",
       "      <td>73475</td>\n",
       "      <td>Donald Trump Meets, and Assails, the Press</td>\n",
       "      <td>Atlantic</td>\n",
       "      <td>David A. Graham</td>\n",
       "      <td>NaN</td>\n",
       "      <td>2017</td>\n",
       "      <td>1</td>\n",
       "      <td>NaN</td>\n",
       "      <td>Updated on January 11 at 5:05 p. m. In his fir...</td>\n",
       "      <td>...</td>\n",
       "      <td>NaN</td>\n",
       "      <td>NaN</td>\n",
       "      <td>NaN</td>\n",
       "      <td>NaN</td>\n",
       "      <td>NaN</td>\n",
       "      <td>NaN</td>\n",
       "      <td>NaN</td>\n",
       "      <td>NaN</td>\n",
       "      <td>NaN</td>\n",
       "      <td>NaN</td>\n",
       "    </tr>\n",
       "    <tr>\n",
       "      <th>4</th>\n",
       "      <td>53297</td>\n",
       "      <td>73476</td>\n",
       "      <td>Trump: âI Thinkâ Hacking Was Russian</td>\n",
       "      <td>Atlantic</td>\n",
       "      <td>Kaveh Waddell</td>\n",
       "      <td>NaN</td>\n",
       "      <td>2017</td>\n",
       "      <td>1</td>\n",
       "      <td>NaN</td>\n",
       "      <td>Updated at 12:25 p. m. After months of equivoc...</td>\n",
       "      <td>...</td>\n",
       "      <td>NaN</td>\n",
       "      <td>NaN</td>\n",
       "      <td>NaN</td>\n",
       "      <td>NaN</td>\n",
       "      <td>NaN</td>\n",
       "      <td>NaN</td>\n",
       "      <td>NaN</td>\n",
       "      <td>NaN</td>\n",
       "      <td>NaN</td>\n",
       "      <td>NaN</td>\n",
       "    </tr>\n",
       "  </tbody>\n",
       "</table>\n",
       "<p>5 rows × 1187 columns</p>\n",
       "</div>"
      ],
      "text/plain": [
       "  Unnamed: 0     id                                              title  \\\n",
       "0      53293  73471  Patriots Day Is Best When It Digs Past the Her...   \n",
       "1      53294  73472  A Break in the Search for the Origin of Comple...   \n",
       "2      53295  73474       Obamaâs Ingenious Mention of Atticus Finch   \n",
       "3      53296  73475         Donald Trump Meets, and Assails, the Press   \n",
       "4      53297  73476           Trump: âI Thinkâ Hacking Was Russian   \n",
       "\n",
       "  publication             author  Unnamed: 5  year month  url  \\\n",
       "0    Atlantic         David Sims         NaN  2017     1  NaN   \n",
       "1    Atlantic            Ed Yong         NaN  2017     1  NaN   \n",
       "2    Atlantic  Spencer Kornhaber         NaN  2017     1  NaN   \n",
       "3    Atlantic    David A. Graham         NaN  2017     1  NaN   \n",
       "4    Atlantic      Kaveh Waddell         NaN  2017     1  NaN   \n",
       "\n",
       "                                             content  ... Unnamed: 1177  \\\n",
       "0  Patriots Day, Peter Bergâs new thriller that...  ...           NaN   \n",
       "1  In Norse mythology, humans and our world were ...  ...           NaN   \n",
       "2  âIf our democracy is to work in this increas...  ...           NaN   \n",
       "3  Updated on January 11 at 5:05 p. m. In his fir...  ...           NaN   \n",
       "4  Updated at 12:25 p. m. After months of equivoc...  ...           NaN   \n",
       "\n",
       "  Unnamed: 1178 Unnamed: 1179 Unnamed: 1180 Unnamed: 1181 Unnamed: 1182  \\\n",
       "0           NaN           NaN           NaN           NaN           NaN   \n",
       "1           NaN           NaN           NaN           NaN           NaN   \n",
       "2           NaN           NaN           NaN           NaN           NaN   \n",
       "3           NaN           NaN           NaN           NaN           NaN   \n",
       "4           NaN           NaN           NaN           NaN           NaN   \n",
       "\n",
       "  Unnamed: 1183 Unnamed: 1184 Unnamed: 1185 Unnamed: 1186  \n",
       "0           NaN           NaN           NaN           NaN  \n",
       "1           NaN           NaN           NaN           NaN  \n",
       "2           NaN           NaN           NaN           NaN  \n",
       "3           NaN           NaN           NaN           NaN  \n",
       "4           NaN           NaN           NaN           NaN  \n",
       "\n",
       "[5 rows x 1187 columns]"
      ]
     },
     "execution_count": 3,
     "metadata": {},
     "output_type": "execute_result"
    }
   ],
   "source": [
    "df2 = pd.read_csv('data2.csv',encoding= 'unicode_escape')\n",
    "df2.head(5)"
   ]
  },
  {
   "cell_type": "markdown",
   "metadata": {},
   "source": [
    "Reading data for Guardian."
   ]
  },
  {
   "cell_type": "code",
   "execution_count": 4,
   "metadata": {},
   "outputs": [
    {
     "data": {
      "text/html": [
       "<div>\n",
       "<style scoped>\n",
       "    .dataframe tbody tr th:only-of-type {\n",
       "        vertical-align: middle;\n",
       "    }\n",
       "\n",
       "    .dataframe tbody tr th {\n",
       "        vertical-align: top;\n",
       "    }\n",
       "\n",
       "    .dataframe thead th {\n",
       "        text-align: right;\n",
       "    }\n",
       "</style>\n",
       "<table border=\"1\" class=\"dataframe\">\n",
       "  <thead>\n",
       "    <tr style=\"text-align: right;\">\n",
       "      <th></th>\n",
       "      <th>Unnamed: 0</th>\n",
       "      <th>id</th>\n",
       "      <th>title</th>\n",
       "      <th>publication</th>\n",
       "      <th>author</th>\n",
       "      <th>date</th>\n",
       "      <th>year</th>\n",
       "      <th>month</th>\n",
       "      <th>url</th>\n",
       "      <th>content</th>\n",
       "    </tr>\n",
       "  </thead>\n",
       "  <tbody>\n",
       "    <tr>\n",
       "      <th>0</th>\n",
       "      <td>103459</td>\n",
       "      <td>151908</td>\n",
       "      <td>Alton Sterlingâs son: âEveryone needs to p...</td>\n",
       "      <td>Guardian</td>\n",
       "      <td>Jessica Glenza</td>\n",
       "      <td>2016-07-13</td>\n",
       "      <td>2016.0</td>\n",
       "      <td>7.0</td>\n",
       "      <td>https://www.theguardian.com/us-news/2016/jul/1...</td>\n",
       "      <td>The son of a Louisiana man whose father was sh...</td>\n",
       "    </tr>\n",
       "    <tr>\n",
       "      <th>1</th>\n",
       "      <td>103460</td>\n",
       "      <td>151909</td>\n",
       "      <td>Shakespeareâs first four folios sell at auct...</td>\n",
       "      <td>Guardian</td>\n",
       "      <td>NaN</td>\n",
       "      <td>2016-05-25</td>\n",
       "      <td>2016.0</td>\n",
       "      <td>5.0</td>\n",
       "      <td>https://www.theguardian.com/culture/2016/may/2...</td>\n",
       "      <td>Copies of William Shakespeareâs first four b...</td>\n",
       "    </tr>\n",
       "    <tr>\n",
       "      <th>2</th>\n",
       "      <td>103461</td>\n",
       "      <td>151910</td>\n",
       "      <td>My grandmotherâs death saved me from a life ...</td>\n",
       "      <td>Guardian</td>\n",
       "      <td>Robert Pendry</td>\n",
       "      <td>2016-10-31</td>\n",
       "      <td>2016.0</td>\n",
       "      <td>10.0</td>\n",
       "      <td>https://www.theguardian.com/commentisfree/2016...</td>\n",
       "      <td>Debt: $20, 000, Source: College, credit cards,...</td>\n",
       "    </tr>\n",
       "    <tr>\n",
       "      <th>3</th>\n",
       "      <td>103462</td>\n",
       "      <td>151911</td>\n",
       "      <td>I feared my life lacked meaning. Cancer pushed...</td>\n",
       "      <td>Guardian</td>\n",
       "      <td>Bradford Frost</td>\n",
       "      <td>2016-11-26</td>\n",
       "      <td>2016.0</td>\n",
       "      <td>11.0</td>\n",
       "      <td>https://www.theguardian.com/commentisfree/2016...</td>\n",
       "      <td>It was late. I was drunk, nearing my 35th birt...</td>\n",
       "    </tr>\n",
       "    <tr>\n",
       "      <th>4</th>\n",
       "      <td>103463</td>\n",
       "      <td>151912</td>\n",
       "      <td>Texas man serving life sentence innocent of do...</td>\n",
       "      <td>Guardian</td>\n",
       "      <td>NaN</td>\n",
       "      <td>2016-08-20</td>\n",
       "      <td>2016.0</td>\n",
       "      <td>8.0</td>\n",
       "      <td>https://www.theguardian.com/us-news/2016/aug/2...</td>\n",
       "      <td>A central Texas man serving a life sentence fo...</td>\n",
       "    </tr>\n",
       "  </tbody>\n",
       "</table>\n",
       "</div>"
      ],
      "text/plain": [
       "   Unnamed: 0      id                                              title  \\\n",
       "0      103459  151908  Alton Sterlingâs son: âEveryone needs to p...   \n",
       "1      103460  151909  Shakespeareâs first four folios sell at auct...   \n",
       "2      103461  151910  My grandmotherâs death saved me from a life ...   \n",
       "3      103462  151911  I feared my life lacked meaning. Cancer pushed...   \n",
       "4      103463  151912  Texas man serving life sentence innocent of do...   \n",
       "\n",
       "  publication          author        date    year  month  \\\n",
       "0    Guardian  Jessica Glenza  2016-07-13  2016.0    7.0   \n",
       "1    Guardian             NaN  2016-05-25  2016.0    5.0   \n",
       "2    Guardian   Robert Pendry  2016-10-31  2016.0   10.0   \n",
       "3    Guardian  Bradford Frost  2016-11-26  2016.0   11.0   \n",
       "4    Guardian             NaN  2016-08-20  2016.0    8.0   \n",
       "\n",
       "                                                 url  \\\n",
       "0  https://www.theguardian.com/us-news/2016/jul/1...   \n",
       "1  https://www.theguardian.com/culture/2016/may/2...   \n",
       "2  https://www.theguardian.com/commentisfree/2016...   \n",
       "3  https://www.theguardian.com/commentisfree/2016...   \n",
       "4  https://www.theguardian.com/us-news/2016/aug/2...   \n",
       "\n",
       "                                             content  \n",
       "0  The son of a Louisiana man whose father was sh...  \n",
       "1  Copies of William Shakespeareâs first four b...  \n",
       "2  Debt: $20, 000, Source: College, credit cards,...  \n",
       "3  It was late. I was drunk, nearing my 35th birt...  \n",
       "4  A central Texas man serving a life sentence fo...  "
      ]
     },
     "execution_count": 4,
     "metadata": {},
     "output_type": "execute_result"
    }
   ],
   "source": [
    "df3 = pd.read_csv('data3.csv',encoding= 'unicode_escape')\n",
    "df3.head(5)"
   ]
  },
  {
   "cell_type": "markdown",
   "metadata": {},
   "source": [
    "Columns in datasets."
   ]
  },
  {
   "cell_type": "code",
   "execution_count": 5,
   "metadata": {},
   "outputs": [
    {
     "data": {
      "text/plain": [
       "Index(['Unnamed: 0', 'id', 'title', 'publication', 'author', 'date', 'year',\n",
       "       'month', 'url', 'content'],\n",
       "      dtype='object')"
      ]
     },
     "execution_count": 5,
     "metadata": {},
     "output_type": "execute_result"
    }
   ],
   "source": [
    "df1.columns"
   ]
  },
  {
   "cell_type": "code",
   "execution_count": 6,
   "metadata": {},
   "outputs": [
    {
     "data": {
      "text/plain": [
       "Index(['Unnamed: 0', 'id', 'title', 'publication', 'author', 'Unnamed: 5',\n",
       "       'year', 'month', 'url', 'content',\n",
       "       ...\n",
       "       'Unnamed: 1177', 'Unnamed: 1178', 'Unnamed: 1179', 'Unnamed: 1180',\n",
       "       'Unnamed: 1181', 'Unnamed: 1182', 'Unnamed: 1183', 'Unnamed: 1184',\n",
       "       'Unnamed: 1185', 'Unnamed: 1186'],\n",
       "      dtype='object', length=1187)"
      ]
     },
     "execution_count": 6,
     "metadata": {},
     "output_type": "execute_result"
    }
   ],
   "source": [
    "df2.columns"
   ]
  },
  {
   "cell_type": "code",
   "execution_count": 7,
   "metadata": {},
   "outputs": [
    {
     "data": {
      "text/plain": [
       "Index(['Unnamed: 0', 'id', 'title', 'publication', 'author', 'date', 'year',\n",
       "       'month', 'url', 'content'],\n",
       "      dtype='object')"
      ]
     },
     "execution_count": 7,
     "metadata": {},
     "output_type": "execute_result"
    }
   ],
   "source": [
    "df3.columns"
   ]
  },
  {
   "cell_type": "markdown",
   "metadata": {},
   "source": [
    "# Data Preprocessing."
   ]
  },
  {
   "cell_type": "markdown",
   "metadata": {},
   "source": [
    "Remove punctuations and special characters."
   ]
  },
  {
   "cell_type": "code",
   "execution_count": 8,
   "metadata": {},
   "outputs": [],
   "source": [
    "def rm_puncs(sen):\n",
    "    punc = '''!()-[]{};:'\"\\, <>./?@#$%^&*_~'''\n",
    "    for ele in sen:  \n",
    "        if ele in punc:  \n",
    "            sen = sen.replace(ele, \" \") \n",
    "    return sen"
   ]
  },
  {
   "cell_type": "markdown",
   "metadata": {},
   "source": [
    "Removing non english characters."
   ]
  },
  {
   "cell_type": "code",
   "execution_count": 9,
   "metadata": {},
   "outputs": [],
   "source": [
    "def rm_noneng(sen): \n",
    "    test_list = word_tokenize(sen)\n",
    "    res = [idx for idx in test_list if not re.findall(\"[^\\u0000-\\u05C0\\u2100-\\u214F]+\", idx)]   \n",
    "    return res"
   ]
  },
  {
   "cell_type": "markdown",
   "metadata": {},
   "source": [
    "Removing stopwords."
   ]
  },
  {
   "cell_type": "code",
   "execution_count": 10,
   "metadata": {},
   "outputs": [],
   "source": [
    "def rm_stopwords(sen):\n",
    "    stop_words = set(stopwords.words('english'))  \n",
    "    filtered = [w for w in sen if not w in stop_words] \n",
    "    filtered = []  \n",
    "    for w in sen: \n",
    "        if w not in stop_words: \n",
    "            filtered.append(w) \n",
    "    return filtered"
   ]
  },
  {
   "cell_type": "markdown",
   "metadata": {},
   "source": [
    "Showing data preprocessing for two datasets in New York Times."
   ]
  },
  {
   "cell_type": "code",
   "execution_count": 11,
   "metadata": {},
   "outputs": [
    {
     "name": "stdout",
     "output_type": "stream",
     "text": [
      "['House', 'Republicans', 'Fret', 'About', 'Winning', 'Their', 'Health', 'Care', 'Suit'] \n",
      "\n",
      "\n",
      "['WASHINGTON', 'Congressional', 'Republicans', 'new', 'fear', 'comes', 'health', 'care', 'lawsuit', 'Obama', 'administration', 'They', 'might', 'win', 'The', 'incoming', 'Trump', 'administration', 'could', 'choose', 'longer', 'defend', 'executive', 'branch', 'suit', 'challenges', 'administration', 'authority', 'spend', 'billions', 'dollars', 'health', 'insurance', 'subsidies', 'Americans', 'handing', 'House', 'Republicans', 'big', 'victory', 'issues', 'But', 'sudden', 'loss', 'disputed', 'subsidies', 'could', 'conceivably', 'cause', 'health', 'care', 'program', 'implode', 'leaving', 'millions', 'people', 'without', 'access', 'health', 'insurance', 'Republicans', 'prepared', 'replacement', 'That', 'could', 'lead', 'chaos', 'insurance', 'market', 'spur', 'political', 'backlash', 'Republicans', 'gain', 'full', 'control', 'government', 'To', 'stave', 'outcome', 'Republicans', 'could', 'find', 'awkward', 'position', 'appropriating', 'huge', 'sums', 'temporarily', 'prop', 'Obama', 'health', 'care', 'law', 'angering', 'conservative', 'voters', 'demanding', 'end', 'law', 'years', 'In', 'another', 'twist', 'Donald', 'J', 'Trump', 'administration', 'worried', 'preserving', 'executive', 'branch', 'prerogatives', 'could', 'choose', 'fight', 'Republican', 'allies', 'House', 'central', 'questions', 'dispute', 'Eager', 'avoid', 'ugly', 'political', 'pileup', 'Republicans', 'Capitol', 'Hill', 'Trump', 'transition', 'team', 'gaming', 'handle', 'lawsuit', 'election', 'put', 'limbo', 'least', 'late', 'February', 'United', 'States', 'Court', 'Appeals', 'District', 'Columbia', 'Circuit', 'They', 'yet', 'ready', 'divulge', 'strategy', 'Given', 'pending', 'litigation', 'involves', 'Obama', 'administration', 'Congress', 'would', 'inappropriate', 'comment', 'said', 'Phillip', 'J', 'Blando', 'spokesman', 'Trump', 'transition', 'effort', 'Upon', 'taking', 'office', 'Trump', 'administration', 'evaluate', 'case', 'related', 'aspects', 'Affordable', 'Care', 'Act', 'In', 'potentially', 'decision', '2015', 'Judge', 'Rosemary', 'M', 'Collyer', 'ruled', 'House', 'Republicans', 'standing', 'sue', 'executive', 'branch', 'spending', 'dispute', 'Obama', 'administration', 'distributing', 'health', 'insurance', 'subsidies', 'violation', 'Constitution', 'without', 'approval', 'Congress', 'The', 'Justice', 'Department', 'confident', 'Judge', 'Collyer', 'decision', 'would', 'reversed', 'quickly', 'appealed', 'subsidies', 'remained', 'place', 'appeal', 'In', 'successfully', 'seeking', 'temporary', 'halt', 'proceedings', 'Mr', 'Trump', 'House', 'Republicans', 'last', 'month', 'told', 'court', 'transition', 'team', 'currently', 'discussing', 'potential', 'options', 'resolution', 'matter', 'take', 'effect', 'inauguration', 'Jan', '20', '2017', 'The', 'suspension', 'case', 'House', 'lawyers', 'said', 'provide', 'future', 'administration', 'time', 'consider', 'whether', 'continue', 'prosecuting', 'otherwise', 'resolve', 'appeal', 'Republican', 'leadership', 'officials', 'House', 'acknowledge', 'possibility', 'cascading', 'effects', 'payments', 'totaled', 'estimated', '13', 'billion', 'suddenly', 'stopped', 'Insurers', 'receive', 'subsidies', 'exchange', 'paying', 'costs', 'deductibles', 'eligible', 'consumers', 'could', 'race', 'drop', 'coverage', 'since', 'would', 'losing', 'money', 'Over', 'loss', 'subsidies', 'could', 'destabilize', 'entire', 'program', 'cause', 'lack', 'confidence', 'leads', 'insurers', 'seek', 'quick', 'exit', 'well', 'Anticipating', 'Trump', 'administration', 'might', 'inclined', 'mount', 'vigorous', 'fight', 'House', 'Republicans', 'given', 'dim', 'view', 'health', 'care', 'law', 'team', 'lawyers', 'month', 'sought', 'intervene', 'case', 'behalf', 'two', 'participants', 'health', 'care', 'program', 'In', 'request', 'lawyers', 'predicted', 'deal', 'House', 'Republicans', 'new', 'administration', 'dismiss', 'settle', 'case', 'produce', 'devastating', 'consequences', 'individuals', 'receive', 'reductions', 'well', 'nation', 'health', 'insurance', 'health', 'care', 'systems', 'generally', 'No', 'matter', 'happens', 'House', 'Republicans', 'say', 'want', 'prevail', 'two', 'overarching', 'concepts', 'congressional', 'power', 'purse', 'right', 'Congress', 'sue', 'executive', 'branch', 'violates', 'Constitution', 'regarding', 'spending', 'power', 'House', 'Republicans', 'contend', 'Congress', 'never', 'appropriated', 'money', 'subsidies', 'required', 'Constitution', 'In', 'suit', 'initially', 'championed', 'John', 'A', 'Boehner', 'House', 'speaker', 'time', 'later', 'House', 'committee', 'reports', 'Republicans', 'asserted', 'administration', 'desperate', 'funding', 'required', 'Treasury', 'Department', 'provide', 'despite', 'widespread', 'internal', 'skepticism', 'spending', 'proper', 'The', 'White', 'House', 'said', 'spending', 'permanent', 'part', 'law', 'passed', '2010', 'annual', 'appropriation', 'required', 'even', 'though', 'administration', 'initially', 'sought', 'one', 'Just', 'important', 'House', 'Republicans', 'Judge', 'Collyer', 'found', 'Congress', 'standing', 'sue', 'White', 'House', 'issue', 'ruling', 'many', 'legal', 'experts', 'said', 'flawed', 'want', 'precedent', 'set', 'restore', 'congressional', 'leverage', 'executive', 'branch', 'But', 'spending', 'power', 'standing', 'Trump', 'administration', 'may', 'come', 'pressure', 'advocates', 'presidential', 'authority', 'fight', 'House', 'matter', 'shared', 'views', 'health', 'care', 'since', 'precedents', 'could', 'broad', 'repercussions', 'It', 'complicated', 'set', 'dynamics', 'illustrating', 'quick', 'legal', 'victory', 'House', 'Trump', 'era', 'might', 'come', 'costs', 'Republicans', 'never', 'anticipated', 'took', 'Obama', 'White', 'House'] \n",
      "\n",
      "\n",
      "['Rift', 'Between', 'Officers', 'Residents', 'Killings', 'Persist', 'South', 'Bronx'] \n",
      "\n",
      "\n",
      "['After', 'bullet', 'shells', 'get', 'counted', 'blood', 'dries', 'votive', 'candles', 'burn', 'people', 'peer', 'windows', 'see', 'crime', 'scenes', 'gone', 'cold', 'band', 'yellow', 'police', 'tape', 'blowing', 'breeze', 'The', 'South', 'Bronx', 'across', 'Harlem', 'River', 'Manhattan', 'shorthand', 'urban', 'dysfunction', 'still', 'suffers', 'violence', 'levels', 'long', 'ago', 'slashed', 'many', 'parts', 'New', 'York', 'City', 'And', 'yet', 'city', 'efforts', 'fight', 'remain', 'splintered', 'underfunded', 'burdened', 'scandal', 'In', '40th', 'Precinct', 'southern', 'tip', 'Bronx', 'poor', 'minority', 'neighborhoods', 'across', 'country', 'people', 'long', 'hounded', 'infractions', 'crying', 'protection', 'grievous', 'injury', 'death', 'By', 'September', 'four', 'every', 'five', 'shootings', 'precinct', 'year', 'unsolved', 'Out', 'city', '77', 'precincts', '40th', 'highest', 'murder', 'rate', 'fewest', 'detectives', 'per', 'violent', 'crime', 'reflecting', 'disparities', 'staffing', 'hit', 'hardest', 'neighborhoods', 'outside', 'Manhattan', 'according', 'New', 'York', 'Times', 'analysis', 'Police', 'Department', 'data', 'Investigators', 'precinct', 'saddled', 'twice', 'number', 'cases', 'department', 'recommends', 'even', 'bosses', 'called', 'Police', 'Headquarters', 'answer', 'sharpest', 'crime', 'rise', 'city', 'year', 'And', 'across', 'Bronx', 'investigative', 'resources', 'squeezed', 'It', 'highest', 'rate', 'city', 'five', 'boroughs', 'thinnest', 'detective', 'staffing', 'Nine', '14', 'precinct', 'detective', 'squads', 'violent', 'crime', 'city', 'The', 'borough', 'robbery', 'squad', 'smaller', 'Manhattan', 'even', 'though', 'Bronx', '1', '300', 'cases', 'year', 'And', 'homicide', 'squad', 'one', 'detective', 'every', 'four', 'murders', 'compared', 'one', 'detective', 'roughly', 'every', 'two', 'murders', 'Upper', 'Manhattan', 'one', 'detective', 'per', 'murder', 'Lower', 'Manhattan', 'In', 'lobbies', 'family', 'apartments', 'outside', 'methadone', 'clinics', 'art', 'studios', 'people', 'take', 'note', 'inequity', 'They', 'hear', 'police', 'commanders', 'explain', 'lack', 'resources', 'place', 'floodlight', 'dangerous', 'block', 'post', 'officers', 'corner', 'They', 'watch', 'witnesses', 'cower', 'behind', 'doors', 'fearful', 'gunman', 'crew', 'confident', 'Police', 'Department', 'ability', 'protect', 'So', 'though', 'people', 'see', 'lot', 'rarely', 'testify', 'And', 'South', 'Bronx', 'many', 'predominantly', 'black', 'Hispanic', 'neighborhoods', 'like', 'United', 'States', 'contract', 'police', 'community', 'tatters', 'Some', 'people', 'stories', 'crime', 'reports', 'ignored', '911', 'calls', 'went', 'unanswered', 'hours', 'Others', 'tell', '911', 'call', 'help', 'ending', 'caller', 'arrest', 'minor', 'charge', 'leading', '12', 'hours', 'fetid', 'holding', 'cell', 'This', 'paradox', 'policing', '40th', 'Precinct', 'Its', 'neighborhoods', 'historically', 'prime', 'targets', 'aggressive', 'tactics', 'like', 'designed', 'ward', 'disorder', 'But', 'precinct', 'detectives', 'less', 'time', 'anywhere', 'else', 'city', 'answer', 'blood', 'spilled', 'violent', 'crimes', 'Gola', 'White', 'beside', 'daughter', 'shot', 'killed', 'playground', 'summer', 'four', 'years', 'son', 'gunned', 'housing', 'project', 'ticked', 'public', 'safety', 'resources', 'said', 'scant', 'Bronx', 'neighborhoods', 'like', 'security', 'cameras', 'lights', 'locks', 'investigating', 'police', 'officers', 'Here', 'nothing', 'said', 'When', 'comes', 'families', 'said', 'authorities', 'really', 'care', 'much', 'That', 'I', 'feel', 'The', 'Times', 'documenting', 'murders', 'logged', 'year', '40th', 'Precinct', 'one', 'handful', 'neighborhoods', 'deadly', 'violence', 'remains', 'problem', 'era', 'crime', 'New', 'York', 'City', 'The', 'homicides', '14', 'precinct', 'year', 'nine', '2015', 'strain', 'detectives', 'go', 'unsolved', 'half', 'year', 'look', 'take', 'law', 'hands', 'From', 'hundreds', 'conversations', 'grieving', 'relatives', 'friends', 'witnesses', 'police', 'officers', 'social', 'forces', 'flare', 'murder', 'place', 'like', '40th', 'Precinct', 'become', 'clearer', 'merciless', 'gang', 'codes', 'mental', 'illness', 'drugs', 'long', 'memories', 'feuds', 'simmered', 'officers', 'view', 'The', 'reasons', 'murders', 'never', 'solved', 'also', 'emerge', 'paralyzing', 'fear', 'retribution', 'victims', 'carrying', 'secrets', 'graves', 'relentless', 'casework', 'forces', 'detectives', 'move', 'hopes', 'break', 'come', 'later', 'Frustrations', 'build', 'sides', 'Detectives', 'phones', 'rarely', 'ring', 'tips', 'officers', 'grow', 'embittered', 'witnesses', 'cooperate', 'In', 'meantime', 'victim', 'friends', 'conduct', 'investigations', 'talk', 'grabbing', 'stash', 'gun', 'wheel', 'well', 'mother', 'apartment', 'find', 'suspect', 'In', 'chasm', 'police', 'community', 'gangs', 'gun', 'violence', 'flourish', 'Parents', 'try', 'protect', 'families', 'drug', 'crews', 'threats', 'officers', 'work', 'overcome', 'residue', 'years', 'mistrust', 'understaffing', 'communities', 'still', 'go', 'racing', 'one', '911', 'call', 'next', 'The', 'streets', 'around', 'St', 'Mary', 'Park', 'scene', 'two', 'fatal', 'shootings', 'logged', '40th', 'Precinct', 'year', 'Both', 'unsolved', 'James', 'Fernandez', 'heard', 'talk', 'murders', 'door', 'apartment', 'East', '146th', 'Street', 'Betances', 'Houses', 'He', 'lived', 'end', 'long', 'hallway', 'strewn', 'hypodermic', 'needles', 'empty', 'dope', 'bags', 'discarded', 'Hennessy', 'bottles', 'A', 'young', 'men', 'spoke', 'subset', 'Bloods', 'gang', 'made', 'drug', 'market', 'slinging', 'marijuana', 'cocaine', 'regulars', 'flashing', 'firearms', 'blowing', 'smoke', 'Fernandez', 'apartment', 'When', 'Mr', 'Fernandez', '40', 'asked', 'young', 'men', 'move', 'answered', 'busting', 'car', 'This', 'kind', 'crime', 'anachronism', 'much', 'New', 'York', 'still', 'rattles', '40th', 'Precinct', 'even', 'though', 'murders', 'fallen', '14', 'year', '83', '1991', 'It', 'major', 'felony', 'crimes', 'per', 'resident', 'residential', 'district', 'city', 'It', 'also', 'one', 'poorest', 'communities', 'country', 'many', 'young', 'men', 'find', 'way', 'underground', 'markets', 'Mr', 'Fernandez', 'one', 'shrink', 'threats', 'When', 'growing', 'Lower', 'East', 'Side', 'rode', 'bicycle', 'around', 'customers', 'drug', 'dealers', 'worked', 'collected', 'payments', 'backpack', 'After', 'leaving', 'life', 'got', 'tech', 'maintenance', 'job', 'three', 'years', 'ago', 'moved', 'Betances', 'Houses', 'wife', 'daughter', '11', 'He', 'two', 'choices', 'get', 'help', 'drug', 'crew', 'call', 'police', 'help', 'risk', 'labeled', 'snitch', 'call', 'old', 'Lower', 'East', 'Side', 'bosses', 'muscle', 'risk', 'violence', 'He', 'chose', 'police', 'Again', 'walked', 'local', 'substation', 'Police', 'Service', 'Area', '7', 'asked', 'protection', 'His', 'daughter', 'using', 'inhaler', 'relieve', 'coughs', 'marijuana', 'smoke', 'Mr', 'Fernandez', 'wife', 'got', 'terrible', 'headaches', 'There', 'lot', 'killers', 'going', 'kill', 'sergeant', 'police', 'report', 'quoted', 'telling', 'Mr', 'Fernandez', 'August', '2015', 'A', 'second', 'report', 'filed', 'day', 'said', 'warned', 'I', 'going', 'shoot', 'window', 'Mr', 'Fernandez', 'told', 'police', 'teenagers', 'names', 'appear', 'reports', 'went', 'home', 'He', 'said', 'one', 'friends', 'seen', 'walk', 'substation', 'tried', 'intimidate', 'filing', 'another', 'report', 'Three', 'days', 'later', 'propped', 'bike', 'door', 'said', 'I', 'open', 'door', 'say', 'something', 'would', 'body', 'slam', 'Mr', 'Fernandez', 'wife', 'Maria', 'Fernandez', 'wrote', 'slips', 'paper', 'used', 'document', 'hallway', 'ruckus', 'inadequate', 'police', 'response', 'The', 'boys', 'made', 'comments', 'easy', 'target', 'would', 'slap', 'opened', 'door', 'made', 'drug', 'sale', 'threatened', 'beat', 'Fernandez', 'family', 'ones', 'snitching', 'notes', 'say', 'But', 'another', 'complaint', 'substation', '10', 'days', 'first', 'brought', 'relief', 'A', 'week', 'later', 'feeling', 'desperate', 'Ms', 'Fernandez', 'tried', 'calling', 'first', 'substation', '8', '50', 'p', 'm', 'one', 'boys', 'blew', 'weed', 'smoke', 'door', 'made', 'threat', 'attack', '911', '10', '36', 'p', 'm', 'The', 'police', 'never', 'came', 'wrote', 'notes', 'She', 'tried', '40th', 'Precinct', 'station', 'house', 'next', 'officers', 'desk', 'left', 'standing', 'public', 'waiting', 'area', 'said', 'making', 'fear', 'seen', 'Officers', 'put', 'worse', 'danger', 'months', 'later', 'said', 'came', 'door', 'announced', 'front', 'teenagers', 'complaint', 'drug', 'activity', 'Mr', 'Fernandez', 'started', 'work', 'said', 'police', 'failed', 'He', 'wired', 'camera', 'peephole', 'record', 'drugs', 'guns', 'The', 'footage', 'hark', 'back', 'New', 'York', '1980s', 'still', 'much', 'present', 'precinct', 'residents', 'Around', '6', '30', 'morning', 'Sgt', 'Michael', 'J', 'LoPuzzo', 'walks', 'tall', 'wooden', 'doors', '40th', 'Precinct', 'station', 'house', 'The', 'cases', 'land', 'metal', 'desk', 'dead', 'bodies', 'known', 'cause', 'strip', 'club', 'brawls', 'shooting', 'victims', 'hobbling', 'hospital', 'bring', 'resistance', 'every', 'turn', 'reminding', 'earlier', 'era', 'city', 'campaign', 'I', 'got', 'one', 'single', 'phone', 'call', 'putting', 'right', 'direction', 'said', 'Sergeant', 'LoPuzzo', 'head', 'precinct', 'detective', 'squad', 'one', 'day', 'summer', 'worked', 'answer', 'email', 'inquiry', 'murder', 'victim', 'aunt', 'killer', 'caught', 'And', 'people', 'understand', 'Often', 'detectives', 'feel', 'effects', 'people', 'turning', 'police', 'Witnesses', 'shout', 'away', 'doors', 'neighbors', 'know', 'refuse', 'talk', 'Of', '184', 'people', 'shot', 'wounded', 'Bronx', 'early', 'September', 'third', '66', 'victims', 'refused', 'cooperate', 'Over', 'period', '40th', 'Precinct', 'squad', 'detectives', 'closed', 'three', '17', 'nonfatal', 'shootings', '72', '343', 'robbery', 'cases', 'Part', 'resistance', 'stems', 'preventive', 'policing', 'tactics', 'like', 'hallmark', 'style', 'former', 'Mayor', 'Michael', 'R', 'Bloomberg', 'police', 'commissioner', 'Raymond', 'W', 'Kelly', 'Near', 'height', 'strategy', '2012', '40th', 'Precinct', 'stops', 'city', 'stops', 'officers', 'used', 'force', 'frisks', 'Of', '18', '276', 'stops', 'year', '15', '521', 'people', 'done', 'nothing', 'criminal', 'The', 'precinct', 'also', 'one', 'areas', 'department', 'flooded', 'newest', 'officers', 'At', 'roll', 'calls', 'pressured', 'generate', 'numbers', 'write', 'tickets', 'make', 'arrests', 'They', 'choice', 'give', 'summons', 'young', 'man', 'playing', 'park', 'dark', 'even', 'officers', 'done', 'growing', 'neighborhood', 'I', 'need', 'bring', 'something', 'today', 'justify', 'existence', 'Officer', 'Argenis', 'Rosado', 'joined', 'precinct', '2010', 'said', 'interview', 'station', 'house', 'So', 'small', 'area', 'day', 'day', 'hammering', 'community', 'Of', 'course', 'community', 'eventually', 'going', 'turn', 'The', 'pressure', 'warped', 'way', 'officers', 'residents', 'saw', 'Rookies', 'ignore', 'someone', 'might', 'drinking', 'outside', 'sitting', 'stoop', 'Some', 'cops', 'came', 'time', 'probably', 'viewed', 'community', 'differently', 'said', 'Hector', 'Espada', 'veteran', 'precinct', 'Not', 'wanted', 'Because', 'way', 'somehow', 'give', 'someone', '115', 'summons', 'feel', 'like', 'guys', 'could', 'still', 'civil', 'conversation', 'Morale', 'wilted', 'aged', 'station', 'house', 'Alexander', 'Avenue', 'Mott', 'Haven', 'Officers', 'felt', 'pressure', 'downgrade', 'crime', 'complaints', 'make', 'appear', 'less', 'serious', 'Several', 'said', 'interviews', 'overlooked', 'crime', 'reports', 'immigrants', 'seen', 'unlikely', 'complain', 'watched', 'supervisors', 'badger', 'victims', 'repeating', 'stories', 'hopes', 'would', 'drop', 'complaints', 'The', 'practice', 'downgrading', 'complaints', 'resulted', 'disciplining', '19', 'officers', 'precinct', 'last', 'year', 'one', 'string', 'scandals', 'left', 'officers', 'feeling', 'overscrutinized', 'problems', 'also', 'existed', 'elsewhere', 'Four', 'commanders', 'precinct', 'sent', 'packing', 'five', 'years', 'one', 'officers', 'found', 'ticket', 'fixing', 'forgiving', 'parking', 'tickets', 'friends', 'another', 'recorded', 'giving', 'guidance', 'stop', 'frisk', 'black', 'boys', 'men', 'ages', '14', '21', 'Some', 'officers', 'fled', 'commands', 'Others', 'became', 'reluctant', 'take', 'assignments', 'proactive', 'policing', 'units', 'like', 'put', 'situations', 'street', 'Whenever', 'I', 'walked', 'doors', 'precinct', 'seemed', 'like', 'black', 'cloud', 'said', 'Russell', 'Lewis', '40th', 'It', 'like', 'heaviness', 'When', 'walked', 'wanted', '8', 'hours', '35', 'minutes', 'go', 'home', 'want', 'get', 'caught', 'anything', 'The', 'precinct', 'covers', 'two', 'square', 'miles', 'dozen', 'housing', 'projects', 'mean', 'overflows', 'people', 'Methadone', 'clinics', 'draw', 'addicts', 'around', 'city', 'lofts', 'southern', 'edge', 'precinct', 'presage', 'wave', 'gentrification', 'Even', 'Police', 'Department', 'hired', '1', '300', 'officers', 'neighborhood', 'policing', 'counterterrorism', 'officers', '40th', 'Precinct', 'said', 'could', 'still', 'rush', '25', '911', 'calls', 'shift', 'number', 'unchanged', 'new', 'police', 'commissioner', 'James', 'P', 'O', 'Neill', 'said', 'handling', 'similar', 'South', 'Bronx', 'precinct', '15', 'years', 'ago', 'Several', 'dozen', 'calls', 'time', 'waiting', 'response', 'Residents', 'know', 'want', 'police', 'domestic', 'problem', 'helps', 'hint', 'weapon', 'Last', 'year', 'precinct', 'drew', 'number', 'civilian', 'complaints', 'officer', 'misconduct', 'city', 'lawsuits', 'stemming', 'police', 'actions', 'The', 'precinct', 'trying', 'improve', 'morale', 'new', 'commanding', 'officer', 'Deputy', 'Inspector', 'Brian', 'Hennessy', 'A', 'cadre', 'department', 'calls', 'neighborhood', 'coordination', 'officers', 'patrol', 'since', 'last', 'January', 'part', 'citywide', 'effort', 'Mr', 'O', 'Neill', 'Mayor', 'Bill', 'de', 'Blasio', 'bring', 'back', 'beat', 'cop', 'unencumbered', 'chasing', 'every', 'last', '911', 'call', 'listen', 'people', 'concerns', 'help', 'investigations', 'The', 'precinct', 'made', 'among', 'gun', 'arrests', 'city', 'officers', 'said', 'discretion', 'resolve', 'encounters', 'without', 'summons', 'arrest', 'At', 'one', 'corner', 'near', 'school', 'Courtlandt', 'Avenue', 'East', '151st', 'Street', 'long', 'spawned', 'complaints', 'gunfire', 'fights', 'Inspector', 'Hennessy', 'officers', 'painted', 'graffiti', 'swept', 'drug', 'paraphernalia', 'summer', 'People', 'said', 'first', 'answer', 'complaints', 'years', 'But', 'inspector', 'acknowledged', 'residue', 'policing', 'lingers', 'That', 'perception', 'really', 'sticks', 'said', 'The', 'workload', '40th', 'Precinct', 'startling', 'reveals', 'gap', 'detective', 'squads', 'equipped', 'answer', 'violent', 'crime', 'Manhattan', 'compared', 'Bronx', 'Brooklyn', 'Queens', 'Three', 'precinct', '16', 'detectives', 'carrying', '400', 'cases', 'year', 'many', 'others', 'loads', 'high', '300s', 'even', 'though', 'department', 'advises', '150', 'violent', 'precincts', 'When', 'assigned', 'homicide', 'typically', 'four', 'days', 'investigate', 'dealing', 'cases', 'Quieter', 'precincts', 'give', 'detectives', 'month', 'little', 'distraction', 'investigate', 'murder', 'Detectives', '40th', 'Precinct', 'handled', 'average', '79', 'violent', 'felonies', 'year', 'murders', 'rapes', 'felony', 'assaults', 'robberies', 'By', 'contrast', 'detective', 'precinct', 'southern', 'end', 'Staten', 'Island', 'carries', 'nine', 'cases', 'detective', 'precinct', 'patrolling', 'Union', 'Square', 'Gramercy', 'Park', 'handles', '16', 'detective', 'precinct', 'Washington', 'Heights', 'handles', '32', 'citywide', 'median', 'Last', 'year', '40th', 'violent', 'crime', '65', 'cases', 'per', 'detective', 'In', 'Bronx', 'whole', 'precinct', 'detective', 'carried', 'average', '58', 'violent', 'felonies', 'year', 'compared', '27', 'Manhattan', '37', 'Brooklyn', '38', 'Queens', '25', 'Staten', 'Island', 'Rape', 'cases', 'robbery', 'patterns', 'later', 'sent', 'specialized', 'units', 'precinct', 'detectives', 'extensive', 'initial', 'work', 'interview', 'victims', 'write', 'reports', 'process', 'evidence', 'Precincts', 'much', 'Manhattan', 'whiter', 'wealthier', 'South', 'Bronx', 'often', 'property', 'felonies', 'like', 'stolen', 'laptops', 'credit', 'cards', 'police', 'say', 'complex', 'But', 'even', 'accounting', 'crimes', '40th', 'Precinct', 'heaviest', 'caseloads', 'overall', 'crime', 'per', 'detective', 'city', 'Michael', 'Palladino', 'head', 'Detectives', 'Endowment', 'Association', 'former', 'Bronx', 'officer', 'said', 'staffing', 'disparities', 'affected', 'department', 'efforts', 'build', 'trust', 'communities', 'like', 'South', 'Bronx', 'Witnesses', 'make', 'calculation', 'said', 'If', 'I', 'cooperate', 'detectives', 'much', 'work', 'even', 'get', 'chance', 'protect', 'late', 'retaliation', 'comes', 'Sergeant', 'LoPuzzo', 'turned', 'prestigious', 'post', 'stay', '40th', 'Precinct', 'said', 'squad', 'worked', 'tirelessly', 'handle', 'cases', 'people', 'every', 'squad', 'wanted', 'detectives', 'staffing', 'needs', 'counterterrorism', 'units', 'task', 'forces', 'created', 'new', 'deployment', 'challenges', 'across', 'department', 'We', 'fight', 'army', 'army', 'wish', 'said', 'Details', 'Police', 'Department', 'assigns', '36', '000', 'officers', 'closely', 'held', 'constantly', 'flux', 'public', 'minimal', 'information', 'personnel', 'allocated', 'Presented', 'The', 'Times', 'analysis', 'confidential', 'staffing', 'data', 'department', 'chief', 'detectives', 'Robert', 'K', 'Boyce', 'vowed', 'send', 'detectives', '40th', 'Precinct', 'said', 'department', 'would', 'reassess', 'deployment', 'broadly', 'troubled', 'precincts', 'He', 'said', 'recent', 'decision', 'bring', 'gang', 'narcotics', 'vice', 'detectives', 'command', 'made', 'easier', 'shift', 'personnel', 'Chief', 'Boyce', 'said', 'burdens', 'detectives', 'went', 'beyond', 'felony', 'crimes', 'include', 'cases', 'And', 'noted', 'support', 'precinct', 'squads', 'got', 'centralized', 'units', 'focusing', 'robberies', 'gangs', 'grand', 'larcenies', 'example', 'Major', 'crime', 'keeps', 'pounding', '40th', 'Precinct', 'rates', '2015', 'tenth', 'percent', 'lower', '2001', 'even', 'citywide', 'crime', 'dropped', 'third', 'period', 'But', 'precinct', 'detective', 'squad', 'shrank', 'eight', 'investigators', 'years', 'according', 'staffing', 'data', 'obtained', 'City', 'Council', 'Freedom', 'Information', 'Law', 'request', 'The', 'squad', 'covering', 'Union', 'Square', 'Gramercy', 'Park', 'crime', 'dropped', 'third', 'period', 'grew', '11', 'investigators', 'The', '40th', 'Precinct', 'given', 'additional', 'detective', 'four', 'investigators', 'summer', 'already', 'missing', 'three', 'detectives', 'illness', 'reasons', 'Retired', 'detectives', 'skeptical', 'community', 'relations', 'alone', 'drive', 'crime', 'city', 'last', 'busiest', 'precincts', 'Rather', 'say', 'Police', 'Department', 'dedicating', 'resources', 'providing', 'sort', 'robust', 'investigative', 'response', 'seems', 'standard', 'Manhattan', 'Any', 'crime', 'Manhattan', 'solved', 'said', 'Howard', 'Landesberg', '40th', 'Precinct', 'detective', 'late', '1980s', 'The', 'outer', 'boroughs', 'like', 'forgotten', 'Retired', 'detectives', 'said', 'understaffing', 'made', 'harder', 'solve', 'crimes', 'Bronx', 'Brooklyn', 'Queens', 'higher', 'prevalence', 'gang', 'drug', 'killings', 'already', 'saddled', 'investigators', 'cases', 'people', 'inclined', 'cooperate', 'Through', 'detectives', 'closed', '67', 'percent', 'homicides', 'Manhattan', '76', 'percent', 'Staten', 'Island', 'year', 'compared', '54', 'percent', 'Bronx', '42', 'percent', 'Queens', '31', 'percent', 'Brooklyn', 'Of', 'last', 'year', 'homicides', 'detectives', 'cleared', '71', 'percent', 'Manhattan', '63', 'percent', 'Bronx', '62', 'percent', 'Queens', '57', 'percent', 'Staten', 'Island', '31', 'percent', 'Brooklyn', 'It', 'culture', 'Police', 'Department', 'worry', 'Manhattan', 'said', 'Joseph', 'L', 'Giacalone', 'former', 'sergeant', 'Bronx', 'Cold', 'Case', 'Squad', 'part', 'money', 'He', 'added', 'When', 'de', 'Blasio', 'came', 'talked', 'tale', 'two', 'cities', 'And', 'done', 'complete', 'opposite', 'said', 'It', 'business', 'usual', 'The', 'Bronx', 'struggles', 'extend', 'prosecutions', 'In', 'last', 'five', 'years', 'prosecutors', 'Bronx', 'declined', 'prosecute', 'violent', 'felony', 'cases', 'anywhere', 'else', 'city', 'And', 'rate', 'conviction', 'Bronx', 'routinely', 'lowest', 'city', 'well', 'ticked', 'year', 'surpass', 'Brooklyn', 'rate', 'November', 'Bronx', 'prosecutors', 'work', 'streamline', 'cases', 'Some', 'cases', 'become', 'even', 'difficult', 'win', 'problem', '40th', 'Precinct', 'allowed', 'defense', 'lawyers', 'attack', 'credibility', 'officers', 'implicated', 'said', 'Patrice', 'O', 'Shaughnessy', 'spokeswoman', 'Bronx', 'District', 'Attorney', 'office', 'The', 'district', 'attorney', 'Darcel', 'D', 'Clark', 'elected', '2015', 'said', 'statement', 'I', 'judge', 'Bronx', 'I', 'heard', 'jurors', 'impartial', 'trust', 'police', 'Against', 'tide', 'mistrust', 'Sergeant', 'LoPuzzo', 'detectives', 'work', '36', 'hours', 'straight', 'fresh', 'cases', 'They', 'buy', 'Chinese', 'takeout', 'money', 'murder', 'suspect', 'They', 'carry', 'surveillance', 'videos', 'home', 'hopes', 'personal', 'computers', 'may', 'enhance', 'better', 'squad', 'computer', 'They', 'buy', 'urn', 'homeless', 'mother', 'murdered', 'son', 'ashes', 'box', 'In', 'months', 'killing', 'seem', 'like', 'people', 'glittering', 'city', 'paying', 'attention', '40th', 'Precinct', 'homicide', 'victims', 'Newly', 'fatherless', 'children', 'go', 'back', 'school', 'without', 'therapist', 'help', 'Victims', 'families', 'wander', 'confused', 'courthouse', 'nearly', 'miss', 'appearance', 'Newspapers', 'largely', 'ignore', 'killings', 'people', 'criminal', 'pasts', 'pushing', 'priority', 'lists', 'chiefs', 'Police', 'Headquarters', 'In', 'stuffy', 'squad', 'room', 'detectives', '40th', 'Precinct', 'grapple', 'inheritance', 'government', 'neglect', 'They', 'meet', 'mothers', 'believe', 'sons', 'might', 'never', 'murdered', 'city', 'guidance', 'counselor', 'listened', 'pleas', 'help', 'stay', 'enrolled', 'city', 'housing', 'worker', 'fixed', 'locks', 'lights', 'building', 'And', 'detectives', 'work', 'alongside', 'vicious', 'system', 'streets', 'punishing', 'police', 'cooperators', 'Young', 'men', 'scan', 'court', 'paperwork', 'prison', 'looking', 'names', 'people', 'turned', 'One', 'murder', 'victim', 'precinct', 'year', 'cast', 'crew', 'avoided', 'arrested', 'gang', 'takedown', 'believed', 'cooperating', 'A', 'longtime', '40th', 'Precinct', 'detective', 'Jeff', 'Meenagh', 'said', 'witness', 'homicide', 'case', 'going', 'testify', 'went', 'back', 'neighborhood', 'told', 'anyone', 'testified', 'would', 'get', 'deserve', 'The', 'allies', 'Sergeant', 'LoPuzzo', 'makes', 'friendly', 'long', 'He', 'helped', 'clear', 'woman', 'son', 'robbery', 'charge', 'locating', 'surveillance', 'video', 'proved', 'robber', 'The', 'mother', 'started', 'calling', 'tips', 'code', 'name', 'gun', 'car', 'example', 'But', 'always', 'refused', 'testify', 'And', 'cut', 'ties', 'year', 'Sergeant', 'LoPuzzo', 'arrested', 'son', 'stabbing', 'two', 'people', 'shooting', 'New', 'York', 'City', 'owns', 'East', '146th', 'Street', 'buildings', 'side', 'But', 'James', 'Fernandez', 'Betances', 'Houses', 'said', 'reality', 'ground', 'different', 'The', 'drug', 'boss', 'ran', 'block', 'By', 'October', 'Mr', 'Fernandez', 'increasingly', 'afraid', 'fed', 'Mr', 'Fernandez', 'wife', 'went', 'far', 'give', 'officers', 'keys', 'building', 'door', 'could', 'get', 'whenever', 'wanted', 'showed', 'videos', 'offered', 'access', 'camera', 'could', 'see', 'happening', 'hallway', 'A', 'couple', 'officers', 'said', 'needed', 'supervisor', 'permission', 'Others', 'answered', 'young', 'men', 'making', 'threats', 'Officers', 'occasionally', 'stopped', 'outside', 'building', 'causing', 'young', 'men', 'scatter', 'come', 'inside', 'Mr', 'Fernandez', 'said', 'The', 'menacing', 'worsened', 'Mr', 'Fernandez', 'daughter', 'harassed', 'arrived', 'home', 'school', 'She', 'grew', 'distressed', 'parents', 'start', 'seeing', 'therapist', 'Mr', 'Fernandez', 'made', 'several', 'complaints', 'office', 'borough', 'president', 'Ruben', 'Diaz', 'Jr', 'visited', 'victim', 'advocate', 'district', 'attorney', 'office', 'On', 'Oct', '20', '2015', 'sent', 'online', 'note', 'police', 'commissioner', 'office', 'We', 'went', 'proper', 'channels', 'help', 'note', 'said', 'Both', 'precincts', 'failed', 'us', 'except', '2', 'officers', 'helped', 'us', 'hands', 'tied', 'No', 'one', 'else', 'turn', 'I', 'months', 'video', 'multiple', 'crimes', 'taking', 'place', 'extreme', 'danger', '40th', 'PSA', '7', 'anything', 'wrote', 'referring', 'local', 'substation', 'Please', 'need', 'speak', 'one', 'authority', 'The', 'local', 'substation', 'commander', 'Deputy', 'Inspector', 'Jerry', 'O', 'Sullivan', 'Bronx', 'narcotics', 'unit', 'alerted', 'complaints', 'But', 'Mr', 'Fernandez', 'said', 'never', 'heard', 'So', 'relied', 'street', 'instincts', 'protect', 'family', 'He', 'made', 'pleas', 'man', 'thought', 'employing', 'dealers', 'hallway', 'The', 'activity', 'quieted', 'briefly', 'returned', 'young', 'men', 'rented', 'room', 'woman', 'apartment', 'upstairs', 'Mr', 'Fernandez', 'approached', 'different', 'man', 'learned', 'boss', 'operation', 'The', 'man', 'agreed', 'ask', 'dealers', 'calm', 'He', 'even', 'hired', 'drug', 'customer', 'sweep', 'hallway', 'Mr', 'Fernandez', 'said', 'But', 'two', 'weeks', 'later', 'dealing', 'harassment', 'resumed', 'So', 'went', 'old', 'Lower', 'East', 'Side', 'bosses', 'hired', 'men', 'trail', 'wife', 'daughter', 'way', 'building', 'make', 'sure', 'made', 'safely', 'school', 'At', 'times', 'sat', 'outside', 'Betances', 'Houses', 'He', 'also', 'bought', 'two', 'bulletproof', 'vests', '700', 'He', 'could', 'find', 'one', 'small', 'enough', 'daughter', 'I', 'faith', 'City', 'New', 'York', 'I', 'faith', 'police', 'I', 'faith', 'politicians', 'Mr', 'Fernandez', 'said', 'The', 'thing', 'I', 'know', 'sure', 'God', 'situation', 'I', 'left', 'defend', 'family', 'Paying', 'close', 'attention', 'happening', 'hallway', 'Mr', 'Fernandez', 'said', 'learned', 'details', 'two', 'recent', 'homicides', '40th', 'Precinct', 'investigating', 'But', 'calls', 'help', 'going', 'nowhere', 'said', 'decided', 'put', 'greater', 'risk', 'talking', 'He', 'would', 'tell', 'police', 'learned', 'I', 'bending', 'backward', 'nobody', 'even', 'anything', 'said', 'Why', 'I', 'going', 'help', 'going', 'help', 'By', 'last', 'January', 'new', 'neighborhood', 'coordination', 'officer', 'working', 'residents', 'Betances', 'Houses', 'ended', 'arrests', 'housing', 'command', 'Inspector', 'O', 'Sullivan', 'said', 'Chief', 'Boyce', 'said', 'silos', 'gang', 'narcotics', 'detectives', 'used', 'work', 'made', 'responding', 'complaints', 'difficult', 'recent', 'restructuring', 'would', 'remove', 'obstacles', 'No', 'one', 'live', 'like', 'Mr', 'Fernandez', 'lived', 'people', 'dealing', 'drugs', 'outside', 'apartment', 'said', 'Mr', 'Fernandez', 'complaints', 'spur', 'arrests', 'two', 'men', 'hallway', 'caught', 'separately', 'year', 'shootings', 'One', 'Mr', 'Fernandez', 'named', 'police', 'report', 'charged', 'summer', 'hitting', 'officer', 'metal', 'folding', 'chair', 'firing', 'three', 'gunshots', 'crowd', 'court', 'papers', 'say', 'He', 'held', 'Rikers', 'Island', 'attempted', 'murder', 'charge', 'That', 'late', 'Mr', 'Fernandez', 'By', 'May', 'moved', 'family', 'away'] \n",
      "\n",
      "\n"
     ]
    }
   ],
   "source": [
    "content = df1['content']\n",
    "heading = df1['title']\n",
    "n = df1.count() - 1\n",
    "for i in range(0,2):\n",
    "    s1 = rm_noneng(heading[i])\n",
    "    s2 = rm_stopwords(s1)\n",
    "    s3 = word_tokenize(rm_puncs(str(s2)))\n",
    "    s3 = s3[:-4]\n",
    "    print(s3,\"\\n\\n\")\n",
    "    s1 = rm_noneng(content[i])\n",
    "    s2 = rm_stopwords(s1)\n",
    "    s3 = word_tokenize(rm_puncs(str(s2))) \n",
    "    print(s3,\"\\n\\n\")"
   ]
  },
  {
   "cell_type": "markdown",
   "metadata": {},
   "source": [
    "Showing data preprocessing for two datasets in Atlantic."
   ]
  },
  {
   "cell_type": "code",
   "execution_count": 12,
   "metadata": {},
   "outputs": [
    {
     "name": "stdout",
     "output_type": "stream",
     "text": [
      "['Patriots', 'Day', 'Is', 'Best', 'When', 'It', 'Digs', 'Past', 'Heroism'] \n",
      "\n",
      "\n",
      "['Patriots', 'Day', 'Peter', 'Bergâ', 'x80', 'x99s', 'new', 'thriller', 'recreates', '2013', 'Boston', 'Marathon', 'bombing', 'ensuing', 'manhunt', 'followed', 'surprisingly', 'oblique', 'morally', 'ambiguous', 'movie', 'typically', 'straightforward', 'filmmaker', 'Patriots', 'Day', 'takes', 'unexpectedly', 'cynical', 'view', 'chaos', 'rash', 'bureaucratic', 'infighting', 'followed', 'bombing', 'â', 'x80', 'x94', 'question', 'whether', 'Bergâ', 'x80', 'x99s', 'intended', 'message', 'For', 'grim', 'running', 'time', 'movie', 'celebrates', 'men', 'ground', 'helped', 'bring', 'bombers', 'justice', 'itâ', 'x80', 'x99s', 'glimpses', 'something', 'complicated', 'jingoism', 'really', 'linger', 'The', 'scene', 'best', 'illustrates', 'dichotomy', 'comes', 'late', 'Patriots', 'Day', 'As', 'search', 'one', 'bombers', 'Dzhokhar', 'Tsarnaev', 'intensifies', 'brotherâ', 'x80', 'x99s', 'wife', 'Katherine', 'Melissa', 'Benoist', 'brought', 'interrogation', 'connections', 'case', 'As', 'asks', 'lawyer', 'protesting', 'â', 'x80', 'x9chas', 'rights', 'â', 'x80', 'x9d', 'steely', 'interviewer', 'Khandi', 'Alexander', 'tuts', 'â', 'x80', 'x9cHoney', 'ainâ', 'x80', 'x99t', 'got', 'shit', 'â', 'x80', 'x9d', 'Itâ', 'x80', 'x99s', 'Hollywood', 'line', 'intended', 'provoke', 'big', 'cheer', 'audience', 'despite', 'queasy', 'legal', 'undertones', 'But', 'film', 'presents', 'â', 'x80', 'x94', 'cheesy', 'line', 'The', 'questioning', 'goes', 'nowhere', 'interrogator', 'exits', 'shrug', 'movie', 'notes', 'Katherine', 'never', 'charged', 'crime', 'Patriots', 'Day', 'filled', 'kind', 'bluster', 'filmâ', 'x80', 'x99s', 'compelling', 'moments', 'serve', 'undercut', 'Deepwater', 'Horizon', 'Stays', 'Too', 'Close', 'Surface', 'Working', 'interesting', 'themes', 'man', 'center', 'movie', 'Boston', 'Police', 'Sergeant', 'Tommy', 'Saunders', 'fictional', 'character', 'invented', 'serve', 'audienceâ', 'x80', 'x99s', 'eyes', 'ears', 'every', 'major', 'turning', 'point', 'attacks', 'Heâ', 'x80', 'x99s', 'played', 'Mark', 'Wahlberg', 'polestar', 'Bergâ', 'x80', 'x99s', 'new', 'genre', 'storytelling', 'played', 'mouthy', 'heroes', 'center', 'Lone', 'Survivor', '2013', 'Deepwater', 'Horizon', '2016', 'Patriots', 'Day', 'Unlike', 'films', 'Wahlbergâ', 'x80', 'x99s', 'character', 'Patriots', 'Day', 'didnâ', 'x80', 'x99t', 'really', 'exist', 'often', 'comes', 'across', 'bundle', 'screenwriting', 'clichÃ©s', 'Heâ', 'x80', 'x99s', 'nursing', 'bum', 'knee', 'recently', 'demoted', 'due', 'insubordination', 'somehow', 'terms', 'every', 'cop', 'uniformed', 'otherwise', 'city', 'When', 'film', 'focused', 'Saunders', 'mostly', 'feels', 'like', 'straight', 'recreation', 'traumatic', 'event', 'occurred', 'less', 'four', 'years', 'ago', 'Berg', 'largely', 'well', 'avoid', 'sensationalizing', '2013', 'bombing', 'killed', '3', 'wounded', '264', 'others', 'subsequent', 'manhunt', 'claimed', 'life', 'police', 'officer', 'At', 'point', 'Patriots', 'Day', 'feel', 'like', 'glitzy', 'action', 'movie', 'gory', 'piece', 'horror', 'The', 'violence', 'day', 'lingered', 'outside', 'effort', 'make', 'victims', 'feel', 'like', 'real', 'people', 'depicting', 'snippets', 'lives', 'beforehand', 'Wahlberg', 'part', 'canâ', 'x80', 'x99t', 'help', 'make', 'Saunders', 'feel', 'like', 'bit', 'stereotype', 'heâ', 'x80', 'x99s', 'movie', 'cop', 'film', 'thatâ', 'x80', 'x99s', 'otherwise', 'seeking', 'nuance', 'Saunders', 'seems', 'supposed', 'stand', 'generally', 'lovable', 'belligerent', 'Boston', 'spirit', 'prevailed', 'days', 'marathon', 'Berg', 'drills', 'point', 'home', 'far', 'many', 'times', 'There', 'bits', 'work', 'â', 'x80', 'x94', 'immediate', 'aftermath', 'bombs', 'Wahlberg', 'successfully', 'communicates', 'angry', 'shaken', 'Saunders', 'rather', 'switching', 'hero', 'mode', 'He', 'decent', 'job', 'selling', 'trauma', 'hefty', 'attitude', 'returns', 'Patriots', 'Day', 'snaps', 'back', 'severe', 'unreality', 'Thatâ', 'x80', 'x99s', 'bad', 'since', 'film', 'fascinating', 'faithfully', 'conveys', 'confusion', 'days', 'bombing', 'differing', 'opinions', 'clashing', 'egos', 'The', 'FBI', 'led', 'agent', 'Richard', 'DesLauriers', 'Kevin', 'Bacon', 'takes', 'case', 'recreating', 'blocks', 'attacked', 'bombs', 'inside', 'gigantic', 'warehouse', 'combing', 'surveillance', 'videos', 'clues', 'Boston', 'Police', 'Commissioner', 'Ed', 'Davis', 'John', 'Goodman', 'Massachusetts', 'Governor', 'Deval', 'Patrick', 'Michael', 'Beach', 'Boston', 'Mayor', 'Thomas', 'Menino', 'Vincent', 'Curatola', 'gather', 'offer', 'guidance', 'case', 'Saunders', 'present', 'reason', 'mostly', 'providing', 'expertise', 'businesses', 'around', 'Boylston', 'Street', 'The', 'thorny', 'mucky', 'debates', 'played', 'manhunt', 'best', 'parts', 'film', 'Berg', 'accurately', 'shows', 'DesLauriers', 'agonizing', 'whether', 'release', 'pictures', 'Tsarnaev', 'brothers', 'gleaned', 'surveillance', 'cameras', 'heâ', 'x80', 'x99s', 'fully', 'substantiated', 'theyâ', 'x80', 'x99re', 'bombers', 'hand', 'eventually', 'forced', 'leak', 'media', 'That', 'sets', 'action', 'series', 'events', 'led', 'deadly', 'shootout', 'Tsarnaev', 'brothers', 'Watertown', 'J', 'K', 'Simmons', 'plays', 'police', 'sergeant', 'Berg', 'wise', 'delve', 'utter', 'chaos', 'manhunt', 'included', 'brief', 'informal', 'declaration', 'martial', 'law', 'bizarre', 'bloody', 'standoff', 'brothers', 'saw', 'lobbing', 'pipe', 'bombs', 'cop', 'cars', 'Itâ', 'x80', 'x99s', 'bedlam', 'words', 'â', 'x80', 'x94', 'total', 'disorder', 'madness', 'kind', 'violence', 'fear', 'terrorism', 'intended', 'provoke', 'even', 'trying', 'stop', 'The', 'Boston', 'PDâ', 'x80', 'x99s', 'efforts', 'capture', 'Tsarnaev', 'brothers', 'justly', 'depicted', 'heroic', 'itâ', 'x80', 'x99s', 'crazed', 'random', 'chains', 'events', 'empty', 'angry', 'posturing', 'stick', 'worthy', 'analysis', 'If', 'Berg', 'dug', 'deeper', 'could', 'great', 'film', 'hands', 'stands', 'heâ', 'x80', 'x99s', 'delivered', 'rote', 'occasionally', 'misfire'] \n",
      "\n",
      "\n",
      "['A', 'Break', 'Search', 'Origin', 'Complex', 'Life'] \n",
      "\n",
      "\n",
      "['In', 'Norse', 'mythology', 'humans', 'world', 'created', 'pantheon', 'gods', 'lived', 'realm', 'Asgard', 'As', 'turns', 'stories', 'grain', 'truth', 'Thanks', 'team', 'scientists', 'led', 'Thijs', 'Ettema', 'Asgard', 'also', 'name', 'large', 'clan', 'microbes', 'Its', 'members', 'named', 'Norse', 'gods', 'like', 'Odin', 'Thor', 'Loki', 'Heimdall', 'found', 'world', 'Many', 'rare', 'one', 'actually', 'seen', 'microscope', 'But', 'thanks', 'DNA', 'know', 'exist', 'And', 'know', 'singularly', 'important', 'us', 'may', 'well', 'group', 'evolved', 'If', 'Ettema', 'right', 'around', 'two', 'billion', 'years', 'ago', 'Asgardian', 'microbe', 'incredibly', 'close', 'relative', 'took', 'part', 'unique', 'event', 'gave', 'rise', 'eukaryotes', 'Thatâ', 'x80', 'x99s', 'group', 'includes', 'humans', 'fellow', 'animals', 'plants', 'fungi', 'every', 'living', 'thing', 'made', 'large', 'complex', 'cells', 'â', 'x80', 'x94', 'living', 'things', 'weâ', 'x80', 'x99re', 'familiar', 'ones', 'actually', 'see', 'Our', 'origins', 'lie', 'either', 'Asgard', 'next', 'door', 'To', 'understand', 'story', 'go', 'back', 'beginning', 'The', 'Earth', 'created', 'around', '4', '5', 'billion', 'years', 'ago', 'judging', 'astonishingly', 'ancient', 'fossils', 'life', 'emerged', 'relatively', 'soon', 'For', 'longest', 'time', 'living', 'things', 'belonged', 'two', 'great', 'domains', 'bacteria', 'archaea', 'microscopic', 'comprising', 'single', 'cells', 'That', 'status', 'quo', 'least', '1', '7', 'billion', 'years', 'two', 'domains', 'joined', 'third', 'eukaryotes', 'And', 'different', 'Eukaryotic', 'cells', 'generally', 'much', 'bigger', 'either', 'bacteria', 'archaea', 'They', 'also', 'larger', 'genomes', 'They', 'internal', 'compartments', 'act', 'like', 'organs', 'special', 'job', 'They', 'internal', 'skeleton', 'acts', 'transport', 'network', 'molecules', 'Thereâ', 'x80', 'x99s', 'huge', 'gulf', 'complexity', 'separates', 'two', 'domains', 'Itâ', 'x80', 'x99s', 'gulf', 'ever', 'crossed', 'lifeâ', 'x80', 'x99s', 'history', 'Bacteria', 'archaea', 'capable', 'amazing', 'feats', 'evolution', '3', '7', 'billion', 'years', 'existence', 'none', 'ever', 'evolved', 'anything', 'approaching', 'cell', 'â', 'x80', 'x94', 'except', 'one', 'time', 'Why', 'One', 'possible', 'answer', 'Iâ', 'x80', 'x99ve', 'written', 'says', 'eukaryotes', 'created', 'incredibly', 'unlikely', 'merger', 'members', 'two', 'domains', 'Somehow', 'bacterium', 'found', 'way', 'inside', 'archaeon', 'rather', 'digested', 'destroyed', 'became', 'permanent', 'part', 'host', 'In', 'provided', 'archaeon', 'extra', 'source', 'energy', 'allowed', 'get', 'bigger', 'accumulate', 'genes', 'evolve', 'new', 'paths', 'previously', 'inaccessible', 'That', 'fusion', 'cell', 'gave', 'rise', 'eukaryotes', 'bacterium', 'eventually', 'turned', 'mitochondria', 'â', 'x80', 'x94', 'little', 'structures', 'still', 'power', 'eukaryotic', 'cells', 'day', 'Once', 'eukaryotes', 'evolved', 'repeatedly', 'engulf', 'microbes', 'fused', 'â', 'x80', 'x94', 'process', 'called', 'endosymbiosis', 'But', 'thatâ', 'x80', 'x99s', 'much', 'easier', 'host', 'cell', 'already', 'big', 'engulf', 'smaller', 'neighbors', 'If', 'host', 'archaeon', 'feat', 'becomes', 'much', 'harder', 'far', 'improbable', 'Thatâ', 'x80', 'x99s', 'maybe', 'merger', 'archaeon', 'bacterium', 'â', 'x80', 'x94', 'one', 'gave', 'rise', 'mitochondria', 'may', 'spawned', 'eukaryotes', 'â', 'x80', 'x94', 'happened', 'What', 'two', 'ancient', 'partners', 'like', 'We', 'know', 'bacterium', 'belonged', 'group', 'called', 'alphaproteobacteria', 'also', 'includes', 'Wolbachia', 'microbe', 'Iâ', 'x80', 'x99ve', 'repeatedly', 'written', 'But', 'recently', 'one', 'knew', 'anything', 'archaeon', 'host', 'Ettema', 'changed', '2015', 'His', 'team', 'Uppsala', 'University', 'collected', 'samples', 'sediment', 'Lokiâ', 'x80', 'x99s', 'Castle', 'â', 'x80', 'x94', 'field', 'hydrothermal', 'vents', 'lie', 'Greenland', 'Norway', 'depths', '2', '300', 'meters', 'By', 'analyzing', 'DNA', 'within', 'sample', 'team', 'identified', 'new', 'archaeon', 'called', 'Lokiarchaeota', 'Their', 'DNA', 'revealed', 'closest', 'living', 'relatives', 'eukaryotes', 'Theyâ', 'x80', 'x99re', 'best', 'approximations', 'ancestral', 'archaeon', 'gave', 'rise', 'us', 'Loki', 'isnâ', 'x80', 'x99t', 'alone', 'Last', 'year', 'another', 'group', 'led', 'Brett', 'Baker', 'University', 'Texas', 'Austin', 'discovered', 'related', 'group', 'archaea', 'mud', 'North', 'Carolinaâ', 'x80', 'x99s', 'White', 'Oak', 'River', 'continuing', 'theme', 'called', 'Thorarchaeota', 'Now', 'teaming', 'Ettema', 'Baker', 'others', 'found', 'even', 'relatives', 'sites', 'around', 'world', 'Yellowstone', 'National', 'Park', 'hot', 'spring', 'New', 'Zealand', 'vents', 'lying', 'near', 'Japanese', 'island', 'many', 'â', 'x80', 'x9cThis', 'work', 'fantastic', 'going', 'sediments', 'planet', 'digging', 'weird', 'wonderful', 'bugs', 'live', 'â', 'x80', 'x9d', 'says', 'James', 'McInerney', 'University', 'Manchester', 'These', 'microbes', 'fall', 'four', 'major', 'groups', 'Lokiarchaeota', 'Thorarchaeota', 'Odinarchaeota', 'Heimdallarchaeota', 'â', 'x80', 'x9cThereâ', 'x80', 'x99s', 'around', '50', 'Asgardian', 'gods', 'weâ', 'x80', 'x99re', 'good', 'go', 'next', 'years', 'â', 'x80', 'x9d', 'says', 'Ettema', 'These', 'four', 'lineages', 'belong', 'overarching', 'supergroup', 'team', 'called', 'Asgard', 'And', 'eukaryotes', 'either', 'sit', 'within', 'Asgardian', 'family', 'tree', 'outside', 'We', 'descend', 'directly', 'either', 'members', 'group', 'perhaps', 'within', 'Heimdall', 'branch', 'incredibly', 'close', 'relatives', 'The', 'genomes', 'Asgardian', 'microbes', 'hold', 'many', 'surprises', 'When', 'Ettema', 'looked', 'DNA', 'surprised', 'find', 'genes', 'supposedly', 'unique', 'eukaryotes', 'Some', 'building', 'remodeling', 'internal', 'skeletons', 'archaea', 'donâ', 'x80', 'x99t', 'Others', 'involved', 'pinching', 'bits', 'outer', 'membrane', 'create', 'little', 'pockets', 'move', 'molecules', 'around', 'large', 'cells', 'â', 'x80', 'x94', 'yet', 'archaea', 'small', 'Yet', 'others', 'typically', 'involved', 'shuttling', 'molecules', 'compartments', 'inside', 'eukaryotic', 'cells', 'â', 'x80', 'x94', 'compartments', 'typically', 'donâ', 'x80', 'x99t', 'exist', 'archaea', 'When', 'Ettema', 'first', 'found', 'genes', 'Loki', 'two', 'years', 'ago', 'scientists', 'skeptical', 'Perhaps', 'came', 'eukaryotes', 'contaminated', 'Ettemaâ', 'x80', 'x99s', 'samples', 'But', 'presence', 'genes', 'members', 'Asgard', 'collected', 'different', 'teams', 'different', 'corners', 'world', 'suggests', 'theyâ', 'x80', 'x99re', 'real', 'This', 'doesnâ', 'x80', 'x99t', 'mean', 'Asgardians', 'eukaryotes', 'even', 'anything', 'close', 'As', 'James', 'McInernery', 'Mary', 'Oâ', 'x80', 'x99Connell', 'write', 'â', 'x80', 'x9cThe', 'distribution', 'genes', 'formerly', 'thought', 'patchy', 'â', 'x80', 'x9d', 'single', 'Asgardian', 'â', 'x80', 'x9ca', 'full', 'set', 'â', 'x80', 'x9d', 'Instead', 'seems', 'â', 'x80', 'x9cthe', 'building', 'blocks', 'traits', 'likely', 'already', 'present', 'archaeal', 'ancestors', 'â', 'x80', 'x9d', 'says', 'Ettema', 'This', 'feeds', 'still', 'unsettled', 'debate', 'origin', 'eukaryotes', 'Some', 'scientists', 'believe', 'bacterium', 'would', 'become', 'mitochondria', 'swallowed', 'host', 'cell', 'already', 'big', 'complex', 'way', 'becoming', 'eukaryote', 'Others', 'hold', 'host', 'still', 'true', 'archaeon', 'merger', 'allowed', 'become', 'complex', 'On', 'face', 'presence', 'genes', 'Asgard', 'supports', 'former', 'idea', 'But', 'Ettema', 'disagrees', 'Based', 'genomes', 'â', 'x80', 'x9ctheyâ', 'x80', 'x99re', 'sophisticated', 'cells', 'many', 'right', 'components', 'place', 'â', 'x80', 'x9d', 'says', 'â', 'x80', 'x9cThey', 'primed', 'become', 'eukaryotes', 'â', 'x80', 'x9d', 'This', 'debate', 'likely', 'rage', 'one', 'actually', 'seen', 'Asgardians', 'In', '1980s', 'scientists', 'developed', 'ways', 'identifying', 'microbes', 'searching', 'DNA', 'amid', 'environmental', 'samples', 'This', 'main', 'way', 'finding', 'new', 'species', 'means', 'many', 'microbes', 'â', 'x80', 'x94', 'like', 'Loki', 'kin', 'â', 'x80', 'x94', 'known', 'DNA', 'No', 'one', 'knows', 'look', 'like', 'â', 'x80', 'x9cItâ', 'x80', 'x99s', 'high', 'priority', 'list', 'â', 'x80', 'x9d', 'says', 'Ettema', 'â', 'x80', 'x9cItâ', 'x80', 'x99s', 'crucial', 'look', 'cells', 'see', 'theyâ', 'x80', 'x99re', 'thatâ', 'x80', 'x99s', 'extremely', 'hard', 'Loki', 'discovered', 'ocean', 'sediments', 'donâ', 'x80', 'x99t', 'go', 'every', 'day', 'Thor', 'Heimdall', 'present', 'shallower', 'environments', 'theyâ', 'x80', 'x99re', 'less', '0', '1', 'percent', 'total', 'microbial', 'community', 'Itâ', 'x80', 'x99s', 'like', 'looking', 'needle', 'haystack', 'weâ', 'x80', 'x99re', 'working', 'â', 'x80', 'x9d'] \n",
      "\n",
      "\n"
     ]
    }
   ],
   "source": [
    "content = df2['content']\n",
    "heading = df2['title']\n",
    "n = df1.count() - 1\n",
    "for i in range(0,2):\n",
    "    s1 = rm_noneng(heading[i])\n",
    "    s2 = rm_stopwords(s1)\n",
    "    s3 = word_tokenize(rm_puncs(str(s2)))\n",
    "    print(s3,\"\\n\\n\")\n",
    "    s1 = rm_noneng(content[i])\n",
    "    s2 = rm_stopwords(s1)\n",
    "    s3 = word_tokenize(rm_puncs(str(s2))) \n",
    "    print(s3,\"\\n\\n\")"
   ]
  },
  {
   "cell_type": "markdown",
   "metadata": {},
   "source": [
    "Showing data preprocessing for two datasets in The Guardian."
   ]
  },
  {
   "cell_type": "code",
   "execution_count": 13,
   "metadata": {},
   "outputs": [
    {
     "name": "stdout",
     "output_type": "stream",
     "text": [
      "['Alton', 'Sterlingâ', 'x80', 'x99s', 'son', 'â', 'x80', 'x99Everyone', 'needs', 'protest', 'right', 'way', 'peaceâ', 'x80', 'x99'] \n",
      "\n",
      "\n",
      "['The', 'son', 'Louisiana', 'man', 'whose', 'father', 'shot', 'killed', 'range', 'Baton', 'Rouge', 'police', 'asked', 'protesters', 'â', 'x80', 'x9cpeaceâ', 'x80', 'x9d', 'â', 'x80', 'x9cno', 'violence', 'none', 'whatsoeverâ', 'x80', 'x9d', 'Cameron', 'Sterling', 'son', 'Alton', 'Sterling', 'whose', 'death', 'hands', 'police', 'caught', 'video', 'spoke', 'father', 'protests', 'Alton', 'Sterling', 'killed', 'Baton', 'Rouge', 'police', '5', 'July', 'convenience', 'store', 'said', 'selling', 'CDs', 'Baton', 'Rouge', 'police', 'said', 'statement', 'police', 'called', 'convenience', 'store', 'Sterling', 'allegedly', 'threatened', 'another', 'patron', 'gun', 'The', 'press', 'conference', 'Wednesday', 'Cameronâ', 'x80', 'x99s', 'first', 'since', 'broke', 'sobs', 'nationally', 'broadcast', 'press', 'conference', 'mother', 'following', 'fatherâ', 'x80', 'x99s', 'death', 'â', 'x80', 'x9cI', 'came', 'talk', 'everyone', 'one', 'death', 'father', 'And', 'two', 'I', 'feel', 'people', 'general', 'â', 'x80', 'x9d', 'said', 'Cameron', 'whose', 'distinctly', 'young', 'voice', 'calm', 'composed', 'front', 'scrum', 'reporters', 'Triple', 'S', 'convenience', 'store', 'â', 'x80', 'x9cPeople', 'general', 'matter', 'race', 'come', 'together', 'one', 'united', 'family', 'â', 'x80', 'x9cNo', 'arguments', 'violence', 'crimes', 'â', 'x80', 'x9d', 'said', 'Cameron', 'â', 'x80', 'x9cYes', 'protest', 'I', 'want', 'everyone', 'protest', 'right', 'way', 'Protest', 'peace', 'â', 'x80', 'x94', 'guns', 'drugs', 'alcohol', 'violence', 'Everyone', 'needs', 'protest', 'right', 'way', 'peace', 'No', 'violence', 'none', 'whatsoever', 'â', 'x80', 'x9d', 'Earlier', 'Wednesday', 'interview', 'CBS', 'News', 'Cameron', 'said', 'didnâ', 'x80', 'x99t', 'believe', 'police', 'â', 'x80', 'x9cbadâ', 'x80', 'x9d', 'police', 'â', 'x80', 'x9cshouldnâ', 'x80', 'x99t', 'punished', 'policeâ', 'x80', 'x99s', 'crimesâ', 'x80', 'x9d', 'â', 'x80', 'x9cThe', 'police', 'Dallas', 'Texas', 'didnâ', 'x80', 'x99t', 'deserve', 'â', 'x80', 'x9d', 'said', 'Cameron', 'Alton', 'Sterlingâ', 'x80', 'x99s', 'death', 'spurred', 'Department', 'Justice', 'investigation', 'protests', 'across', 'country', 'one', 'subjects', 'march', 'Dallas', 'Thursday', 'gunman', 'attacked', 'killed', 'five', 'police', 'officers', 'His', 'first', 'two', 'police', 'shootings', 'week', 'including', 'shocking', 'video', 'shooting', 'Minnesota', 'man', 'Philandro', 'Castile', 'aftermath', 'broadcast', 'live', 'Facebook', 'girlfriend'] \n",
      "\n",
      "\n",
      "['Shakespeareâ', 'x80', 'x99s', 'first', 'four', 'folios', 'sell', 'auction', 'almost', 'Â£2', '5m'] \n",
      "\n",
      "\n",
      "['Copies', 'William', 'Shakespeareâ', 'x80', 'x99s', 'first', 'four', 'books', 'dubbed', 'â', 'x80', 'x9cHoly', 'Grail', 'publishingâ', 'x80', 'x9d', 'sold', 'almost', 'Â£2', '5m', 'auction', 'Christieâ', 'x80', 'x99s', 'said', 'sold', 'separate', 'lots', 'Wednesday', 'bought', 'anonymous', 'private', 'American', 'collector', 'The', 'Â£2', '479', '000', 'sale', 'London', 'included', 'bardâ', 'x80', 'x99s', 'first', 'folio', 'widely', 'considered', 'important', 'literary', 'publication', 'English', 'language', 'The', 'book', 'published', '1623', 'contains', '36', 'plays', '18', 'appeared', 'print', 'It', 'fetched', 'Â£1', '87m', 'well', 'estimate', 'Â£800', '000', 'Â£1', '2m', 'Christieâ', 'x80', 'x99s', 'book', 'expert', 'Margaret', 'Ford', 'said', 'â', 'x80', 'x9cexhilaratingâ', 'x80', 'x9d', 'bring', 'newly', 'recorded', 'book', 'publicâ', 'x80', 'x99s', 'attention', '400th', 'anniversary', 'playwrightâ', 'x80', 'x99s', 'death', 'It', 'sold', 'along', 'later', 'editions', 'published', '1632', '1664', '1685', 'Ford', 'said', 'â', 'x80', 'x9cWe', 'pleased', 'results', 'achieved', 'sale', 'especially', 'since', 'four', 'books', 'acquired', 'private', 'American', 'collector', 'The', 'universality', 'timelessness', 'Shakespeareâ', 'x80', 'x99s', 'insight', 'human', 'nature', 'continues', 'engage', 'enthral', 'audiences', 'world', 'â', 'x80', 'x9cEven', 'four', 'centuries', 'death', 'plays', 'touch', 'transform', 'lives', 'continue', 'read', 'performed', 'Albania', 'Zambia', 'â', 'x80', 'x9d'] \n",
      "\n",
      "\n"
     ]
    }
   ],
   "source": [
    "content = df3['content']\n",
    "heading = df3['title']\n",
    "n = df1.count() - 1\n",
    "for i in range(0,2):\n",
    "    s1 = rm_noneng(heading[i])\n",
    "    s2 = rm_stopwords(s1)\n",
    "    s3 = word_tokenize(rm_puncs(str(s2)))\n",
    "    print(s3,\"\\n\\n\")\n",
    "    s1 = rm_noneng(content[i])\n",
    "    s2 = rm_stopwords(s1)\n",
    "    s3 = word_tokenize(rm_puncs(str(s2))) \n",
    "    print(s3,\"\\n\\n\")"
   ]
  },
  {
   "cell_type": "markdown",
   "metadata": {},
   "source": [
    "# K Means Clustering."
   ]
  },
  {
   "cell_type": "code",
   "execution_count": 14,
   "metadata": {},
   "outputs": [],
   "source": [
    "from sklearn.feature_extraction.text import TfidfVectorizer\n",
    "from sklearn.cluster import KMeans\n",
    "import matplotlib.pyplot as plt"
   ]
  },
  {
   "cell_type": "markdown",
   "metadata": {},
   "source": [
    "K Means Clustering."
   ]
  },
  {
   "cell_type": "code",
   "execution_count": 15,
   "metadata": {},
   "outputs": [],
   "source": [
    "def kclust_elb(heading):\n",
    "    vectorizer = TfidfVectorizer(stop_words='english')\n",
    "    X = vectorizer.fit_transform(heading1)\n",
    "    cost =[]\n",
    "    for i in range(1,22):\n",
    "        model = KMeans(n_clusters=i,max_iter=500)\n",
    "        model.fit(X)\n",
    "        cost.append(model.inertia_)\n",
    "    plt.plot(range(1, 22), cost, color ='g', linewidth ='3') \n",
    "    plt.xlabel(\"Value of K\") \n",
    "    plt.ylabel(\"Sqaured Error (Cost)\") \n",
    "    plt.show()"
   ]
  },
  {
   "cell_type": "markdown",
   "metadata": {},
   "source": [
    "For New York Times."
   ]
  },
  {
   "cell_type": "code",
   "execution_count": 16,
   "metadata": {},
   "outputs": [
    {
     "data": {
      "image/png": "[encoded data removed]",
      "text/plain": [
       "<Figure size 432x288 with 1 Axes>"
      ]
     },
     "metadata": {
      "needs_background": "light"
     },
     "output_type": "display_data"
    }
   ],
   "source": [
    "heading1 = np.array(df1['title'])\n",
    "model1 = kclust_elb(heading1)"
   ]
  },
  {
   "cell_type": "markdown",
   "metadata": {},
   "source": [
    "For Atlantic."
   ]
  },
  {
   "cell_type": "code",
   "execution_count": 17,
   "metadata": {},
   "outputs": [
    {
     "data": {
      "image/png": "[encoded data removed]",
      "text/plain": [
       "<Figure size 432x288 with 1 Axes>"
      ]
     },
     "metadata": {
      "needs_background": "light"
     },
     "output_type": "display_data"
    }
   ],
   "source": [
    "heading2 = np.array(df2['title'].values.astype('U'))\n",
    "#For Atlantic.\n",
    "model2 = kclust_elb(heading2)"
   ]
  },
  {
   "cell_type": "markdown",
   "metadata": {},
   "source": [
    "For The Guardian."
   ]
  },
  {
   "cell_type": "code",
   "execution_count": 18,
   "metadata": {},
   "outputs": [
    {
     "data": {
      "image/png": "[encoded data removed]",
      "text/plain": [
       "<Figure size 432x288 with 1 Axes>"
      ]
     },
     "metadata": {
      "needs_background": "light"
     },
     "output_type": "display_data"
    }
   ],
   "source": [
    "heading3 = np.array(df3['title'].values.astype('U'))\n",
    "model3 = kclust_elb(heading3)"
   ]
  },
  {
   "cell_type": "markdown",
   "metadata": {},
   "source": [
    "# DBSCAN Clustering"
   ]
  },
  {
   "cell_type": "code",
   "execution_count": 19,
   "metadata": {},
   "outputs": [],
   "source": [
    "from sklearn.cluster import DBSCAN"
   ]
  },
  {
   "cell_type": "code",
   "execution_count": 20,
   "metadata": {},
   "outputs": [],
   "source": [
    "def dbs(heading):\n",
    "    vectorizer = TfidfVectorizer(stop_words='english')\n",
    "    X = vectorizer.fit_transform(heading)\n",
    "    true_k = 2\n",
    "    model = DBSCAN(eps=2,min_samples = 3, metric = 'euclidean')\n",
    "    model.fit(X)\n",
    "    return model  "
   ]
  },
  {
   "cell_type": "markdown",
   "metadata": {},
   "source": [
    "For New York Times."
   ]
  },
  {
   "cell_type": "code",
   "execution_count": null,
   "metadata": {},
   "outputs": [],
   "source": [
    "model11 = dbs(heading1)"
   ]
  },
  {
   "cell_type": "markdown",
   "metadata": {},
   "source": [
    "For Atlantic."
   ]
  },
  {
   "cell_type": "code",
   "execution_count": null,
   "metadata": {},
   "outputs": [],
   "source": [
    "model22 = dbs(heading2)"
   ]
  },
  {
   "cell_type": "markdown",
   "metadata": {},
   "source": [
    "For Guardian."
   ]
  },
  {
   "cell_type": "code",
   "execution_count": null,
   "metadata": {},
   "outputs": [],
   "source": [
    "model33 = dbs(heading3)"
   ]
  },
  {
   "cell_type": "markdown",
   "metadata": {},
   "source": [
    "# VADER Sentiment Analysis."
   ]
  },
  {
   "cell_type": "code",
   "execution_count": null,
   "metadata": {},
   "outputs": [],
   "source": [
    "from vaderSentiment.vaderSentiment import SentimentIntensityAnalyzer "
   ]
  },
  {
   "cell_type": "code",
   "execution_count": null,
   "metadata": {},
   "outputs": [],
   "source": [
    "def vaders(article):\n",
    "    sid_obj = SentimentIntensityAnalyzer() \n",
    "    sentiment_dict = sid_obj.polarity_scores(article)\n",
    "    return sentiment_dict"
   ]
  },
  {
   "cell_type": "code",
   "execution_count": null,
   "metadata": {},
   "outputs": [],
   "source": [
    "sent = df1['content'][0]\n",
    "sentiment_dict = vaders(sent)\n",
    "print(sentiment_dict)"
   ]
  },
  {
   "cell_type": "markdown",
   "metadata": {},
   "source": [
    "# Text Blob Sentiment Analysis."
   ]
  },
  {
   "cell_type": "code",
   "execution_count": null,
   "metadata": {},
   "outputs": [],
   "source": [
    "from textblob import TextBlob\n",
    "from textblob.sentiments import NaiveBayesAnalyzer"
   ]
  },
  {
   "cell_type": "code",
   "execution_count": null,
   "metadata": {},
   "outputs": [],
   "source": [
    "def textblob_sentiment(article):\n",
    "    analysis = TextBlob(article).polarity\n",
    "    return analysis"
   ]
  },
  {
   "cell_type": "code",
   "execution_count": null,
   "metadata": {},
   "outputs": [],
   "source": [
    "sent = df1['content'][0]\n",
    "sentiment = textblob_sentiment(sent)\n",
    "print(sentiment)"
   ]
  }
 ],
 "metadata": {
  "kernelspec": {
   "display_name": "Python 3",
   "language": "python",
   "name": "python3"
  },
  "language_info": {
   "codemirror_mode": {
    "name": "ipython",
    "version": 3
   },
   "file_extension": ".py",
   "mimetype": "text/x-python",
   "name": "python",
   "nbconvert_exporter": "python",
   "pygments_lexer": "ipython3",
   "version": "3.8.5"
  }
 },
 "nbformat": 4,
 "nbformat_minor": 2
}
